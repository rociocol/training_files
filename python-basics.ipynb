{
 "cells": [
  {
   "cell_type": "markdown",
   "id": "a58bbb87",
   "metadata": {},
   "source": [
    "### Python Basics\n",
    "#### Types of numbers - Integers and Floats\n"
   ]
  },
  {
   "cell_type": "code",
   "execution_count": 1,
   "id": "b4b919f4",
   "metadata": {},
   "outputs": [
    {
     "data": {
      "text/plain": [
       "6"
      ]
     },
     "execution_count": 1,
     "metadata": {},
     "output_type": "execute_result"
    }
   ],
   "source": [
    "3 + 3"
   ]
  },
  {
   "cell_type": "code",
   "execution_count": 2,
   "id": "1a195015",
   "metadata": {},
   "outputs": [
    {
     "data": {
      "text/plain": [
       "1"
      ]
     },
     "execution_count": 2,
     "metadata": {},
     "output_type": "execute_result"
    }
   ],
   "source": [
    "2- 1"
   ]
  },
  {
   "cell_type": "markdown",
   "id": "8d8f4359",
   "metadata": {},
   "source": [
    "### Variable Assignment "
   ]
  },
  {
   "cell_type": "code",
   "execution_count": 3,
   "id": "b8e40768",
   "metadata": {},
   "outputs": [],
   "source": [
    "number = \"Rocio\""
   ]
  },
  {
   "cell_type": "code",
   "execution_count": 4,
   "id": "22cb1c6f",
   "metadata": {},
   "outputs": [
    {
     "data": {
      "text/plain": [
       "'Rocio'"
      ]
     },
     "execution_count": 4,
     "metadata": {},
     "output_type": "execute_result"
    }
   ],
   "source": [
    "number"
   ]
  },
  {
   "cell_type": "markdown",
   "id": "78163f33",
   "metadata": {},
   "source": [
    "### Strings"
   ]
  },
  {
   "cell_type": "code",
   "execution_count": 1,
   "id": "6e1f4e8b",
   "metadata": {},
   "outputs": [],
   "source": [
    "a = 10"
   ]
  },
  {
   "cell_type": "code",
   "execution_count": 2,
   "id": "b19f3a1c",
   "metadata": {},
   "outputs": [
    {
     "data": {
      "text/plain": [
       "20"
      ]
     },
     "execution_count": 2,
     "metadata": {},
     "output_type": "execute_result"
    }
   ],
   "source": [
    "a + a "
   ]
  },
  {
   "cell_type": "code",
   "execution_count": null,
   "id": "8e8aa0ed",
   "metadata": {},
   "outputs": [],
   "source": []
  }
 ],
 "metadata": {
  "kernelspec": {
   "display_name": "Python 3 (ipykernel)",
   "language": "python",
   "name": "python3"
  },
  "language_info": {
   "codemirror_mode": {
    "name": "ipython",
    "version": 3
   },
   "file_extension": ".py",
   "mimetype": "text/x-python",
   "name": "python",
   "nbconvert_exporter": "python",
   "pygments_lexer": "ipython3",
   "version": "3.9.12"
  }
 },
 "nbformat": 4,
 "nbformat_minor": 5
}
