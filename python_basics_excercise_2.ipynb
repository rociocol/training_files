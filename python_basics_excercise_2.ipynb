{
 "cells": [
  {
   "cell_type": "markdown",
   "id": "c1406604",
   "metadata": {},
   "source": [
    "## Lists\n",
    "\n",
    "Build this list [0,0,0] two separate ways."
   ]
  },
  {
   "cell_type": "code",
   "execution_count": 1,
   "id": "0973b4f5",
   "metadata": {},
   "outputs": [],
   "source": [
    "# Method 1:"
   ]
  },
  {
   "cell_type": "code",
   "execution_count": 2,
   "id": "280da897",
   "metadata": {},
   "outputs": [],
   "source": [
    "list = [0,0,0]"
   ]
  },
  {
   "cell_type": "code",
   "execution_count": 3,
   "id": "741ec8d4",
   "metadata": {},
   "outputs": [
    {
     "data": {
      "text/plain": [
       "[0, 0, 0]"
      ]
     },
     "execution_count": 3,
     "metadata": {},
     "output_type": "execute_result"
    }
   ],
   "source": [
    "list"
   ]
  },
  {
   "cell_type": "code",
   "execution_count": 2,
   "id": "b90fae5c",
   "metadata": {},
   "outputs": [],
   "source": [
    "# Method 2:"
   ]
  },
  {
   "cell_type": "code",
   "execution_count": 30,
   "id": "4e0be22a",
   "metadata": {},
   "outputs": [],
   "source": [
    "list2 = []"
   ]
  },
  {
   "cell_type": "code",
   "execution_count": 31,
   "id": "48e98d7e",
   "metadata": {},
   "outputs": [
    {
     "data": {
      "text/plain": [
       "[]"
      ]
     },
     "execution_count": 31,
     "metadata": {},
     "output_type": "execute_result"
    }
   ],
   "source": [
    "list2"
   ]
  },
  {
   "cell_type": "code",
   "execution_count": 32,
   "id": "e0c4d5a6",
   "metadata": {},
   "outputs": [],
   "source": [
    "list3 = [0] * 3"
   ]
  },
  {
   "cell_type": "code",
   "execution_count": 33,
   "id": "099aee82",
   "metadata": {},
   "outputs": [
    {
     "data": {
      "text/plain": [
       "[0, 0, 0]"
      ]
     },
     "execution_count": 33,
     "metadata": {},
     "output_type": "execute_result"
    }
   ],
   "source": [
    "list3"
   ]
  },
  {
   "cell_type": "markdown",
   "id": "bec3422d",
   "metadata": {},
   "source": [
    "Reassign 'hello' in this nested list to say 'goodbye' instead:\n",
    "\n"
   ]
  },
  {
   "cell_type": "code",
   "execution_count": 34,
   "id": "8de66a6d",
   "metadata": {},
   "outputs": [],
   "source": [
    "list3 = [1,2,[3,4,'hello']]"
   ]
  },
  {
   "cell_type": "code",
   "execution_count": 35,
   "id": "1229e1c8",
   "metadata": {},
   "outputs": [
    {
     "data": {
      "text/plain": [
       "[1, 2, [3, 4, 'hello']]"
      ]
     },
     "execution_count": 35,
     "metadata": {},
     "output_type": "execute_result"
    }
   ],
   "source": [
    "list3"
   ]
  },
  {
   "cell_type": "code",
   "execution_count": 36,
   "id": "ef9f47b7",
   "metadata": {},
   "outputs": [
    {
     "data": {
      "text/plain": [
       "'hello'"
      ]
     },
     "execution_count": 36,
     "metadata": {},
     "output_type": "execute_result"
    }
   ],
   "source": [
    "list3[2][2]"
   ]
  },
  {
   "cell_type": "code",
   "execution_count": 37,
   "id": "a5745c26",
   "metadata": {},
   "outputs": [],
   "source": [
    "list3[2][2] = \"goodbye\""
   ]
  },
  {
   "cell_type": "code",
   "execution_count": 38,
   "id": "1b72fb32",
   "metadata": {},
   "outputs": [
    {
     "data": {
      "text/plain": [
       "[1, 2, [3, 4, 'goodbye']]"
      ]
     },
     "execution_count": 38,
     "metadata": {},
     "output_type": "execute_result"
    }
   ],
   "source": [
    "list3"
   ]
  },
  {
   "cell_type": "code",
   "execution_count": 39,
   "id": "34d05b2e",
   "metadata": {},
   "outputs": [
    {
     "data": {
      "text/plain": [
       "[1, 2, [3, 4, 'goodbye']]"
      ]
     },
     "execution_count": 39,
     "metadata": {},
     "output_type": "execute_result"
    }
   ],
   "source": [
    "list3"
   ]
  },
  {
   "cell_type": "code",
   "execution_count": 40,
   "id": "3acc64e7",
   "metadata": {},
   "outputs": [],
   "source": [
    "list3[2][0] = 5"
   ]
  },
  {
   "cell_type": "code",
   "execution_count": 41,
   "id": "3a180def",
   "metadata": {},
   "outputs": [
    {
     "data": {
      "text/plain": [
       "[1, 2, [5, 4, 'goodbye']]"
      ]
     },
     "execution_count": 41,
     "metadata": {},
     "output_type": "execute_result"
    }
   ],
   "source": [
    "list3"
   ]
  },
  {
   "cell_type": "code",
   "execution_count": 43,
   "id": "2ca8f90b",
   "metadata": {},
   "outputs": [],
   "source": [
    "list3[0] = \"1\""
   ]
  },
  {
   "cell_type": "code",
   "execution_count": 44,
   "id": "39a0b13b",
   "metadata": {},
   "outputs": [
    {
     "data": {
      "text/plain": [
       "['1', 2, [5, 4, 'goodbye']]"
      ]
     },
     "execution_count": 44,
     "metadata": {},
     "output_type": "execute_result"
    }
   ],
   "source": [
    "list3"
   ]
  },
  {
   "cell_type": "markdown",
   "id": "894da204",
   "metadata": {},
   "source": [
    "Sort the list below:"
   ]
  },
  {
   "cell_type": "code",
   "execution_count": 15,
   "id": "eac84b64",
   "metadata": {},
   "outputs": [],
   "source": [
    "list4 = [5,3,4,6,1]"
   ]
  },
  {
   "cell_type": "code",
   "execution_count": 17,
   "id": "733bd711",
   "metadata": {},
   "outputs": [],
   "source": [
    "list4.sort()"
   ]
  },
  {
   "cell_type": "code",
   "execution_count": 18,
   "id": "cd738077",
   "metadata": {},
   "outputs": [
    {
     "data": {
      "text/plain": [
       "[1, 3, 4, 5, 6]"
      ]
     },
     "execution_count": 18,
     "metadata": {},
     "output_type": "execute_result"
    }
   ],
   "source": [
    "list4"
   ]
  },
  {
   "cell_type": "markdown",
   "id": "bc4dfb5f",
   "metadata": {},
   "source": [
    "## Dictionaries\n",
    "\n",
    "Using keys and indexing, grab the 'hello' from the following dictionaries:"
   ]
  },
  {
   "cell_type": "code",
   "execution_count": null,
   "id": "43b82012",
   "metadata": {},
   "outputs": [],
   "source": [
    "# Grab 'hello'"
   ]
  },
  {
   "cell_type": "code",
   "execution_count": 1,
   "id": "4b1be2e4",
   "metadata": {},
   "outputs": [],
   "source": [
    "d = {'simple_key':'hello'}"
   ]
  },
  {
   "cell_type": "code",
   "execution_count": 2,
   "id": "32fab02f",
   "metadata": {},
   "outputs": [
    {
     "data": {
      "text/plain": [
       "'hello'"
      ]
     },
     "execution_count": 2,
     "metadata": {},
     "output_type": "execute_result"
    }
   ],
   "source": [
    "d['simple_key']"
   ]
  },
  {
   "cell_type": "code",
   "execution_count": 3,
   "id": "cdb4bcc0",
   "metadata": {},
   "outputs": [],
   "source": [
    "d = {'k1':{'k2':'hello'}}"
   ]
  },
  {
   "cell_type": "code",
   "execution_count": 9,
   "id": "100defda",
   "metadata": {},
   "outputs": [
    {
     "data": {
      "text/plain": [
       "'hello'"
      ]
     },
     "execution_count": 9,
     "metadata": {},
     "output_type": "execute_result"
    }
   ],
   "source": [
    "d['k1'][\"k2\"]"
   ]
  },
  {
   "cell_type": "code",
   "execution_count": 10,
   "id": "bb62f4b5",
   "metadata": {},
   "outputs": [
    {
     "data": {
      "text/plain": [
       "{'k1': {'k2': 'hello'}}"
      ]
     },
     "execution_count": 10,
     "metadata": {},
     "output_type": "execute_result"
    }
   ],
   "source": [
    "d"
   ]
  },
  {
   "cell_type": "code",
   "execution_count": 11,
   "id": "6039091c",
   "metadata": {},
   "outputs": [],
   "source": [
    "d = {'k1':[{'nest_key':['this is deep',['hello']]}]}"
   ]
  },
  {
   "cell_type": "code",
   "execution_count": 12,
   "id": "a28a8000",
   "metadata": {},
   "outputs": [
    {
     "data": {
      "text/plain": [
       "{'nest_key': ['this is deep', ['hello']]}"
      ]
     },
     "execution_count": 12,
     "metadata": {},
     "output_type": "execute_result"
    }
   ],
   "source": [
    "d[\"k1\" ][0]"
   ]
  },
  {
   "cell_type": "code",
   "execution_count": 13,
   "id": "2e5896e1",
   "metadata": {},
   "outputs": [
    {
     "data": {
      "text/plain": [
       "['this is deep', ['hello']]"
      ]
     },
     "execution_count": 13,
     "metadata": {},
     "output_type": "execute_result"
    }
   ],
   "source": [
    "d[\"k1\" ][0][\"nest_key\"]"
   ]
  },
  {
   "cell_type": "code",
   "execution_count": 14,
   "id": "7ef582a5",
   "metadata": {},
   "outputs": [
    {
     "data": {
      "text/plain": [
       "['hello']"
      ]
     },
     "execution_count": 14,
     "metadata": {},
     "output_type": "execute_result"
    }
   ],
   "source": [
    "d[\"k1\" ][0][\"nest_key\"][1]"
   ]
  },
  {
   "cell_type": "code",
   "execution_count": 17,
   "id": "db23b3ae",
   "metadata": {},
   "outputs": [
    {
     "data": {
      "text/plain": [
       "'hello'"
      ]
     },
     "execution_count": 17,
     "metadata": {},
     "output_type": "execute_result"
    }
   ],
   "source": [
    "d[\"k1\" ][0][\"nest_key\"][1][0]"
   ]
  },
  {
   "cell_type": "code",
   "execution_count": 18,
   "id": "da8d0a3b",
   "metadata": {},
   "outputs": [
    {
     "data": {
      "text/plain": [
       "'hello'"
      ]
     },
     "execution_count": 18,
     "metadata": {},
     "output_type": "execute_result"
    }
   ],
   "source": [
    "d[\"k1\" ][0][\"nest_key\"][1][0]"
   ]
  },
  {
   "cell_type": "code",
   "execution_count": 2,
   "id": "01987eef",
   "metadata": {},
   "outputs": [],
   "source": [
    "d = {'k1':[1,2,{'k2':['this is tricky',{'tough':[1,2,['hello']]}]}]}"
   ]
  },
  {
   "cell_type": "code",
   "execution_count": 3,
   "id": "6d4b3ca7",
   "metadata": {},
   "outputs": [
    {
     "data": {
      "text/plain": [
       "dict"
      ]
     },
     "execution_count": 3,
     "metadata": {},
     "output_type": "execute_result"
    }
   ],
   "source": [
    "type(d[\"k1\"][2])"
   ]
  },
  {
   "cell_type": "code",
   "execution_count": 4,
   "id": "dbf35e10",
   "metadata": {},
   "outputs": [
    {
     "data": {
      "text/plain": [
       "['this is tricky', {'tough': [1, 2, ['hello']]}]"
      ]
     },
     "execution_count": 4,
     "metadata": {},
     "output_type": "execute_result"
    }
   ],
   "source": [
    "d[\"k1\"][2][\"k2\"]"
   ]
  },
  {
   "cell_type": "code",
   "execution_count": 5,
   "id": "0d1d17fa",
   "metadata": {},
   "outputs": [
    {
     "data": {
      "text/plain": [
       "{'tough': [1, 2, ['hello']]}"
      ]
     },
     "execution_count": 5,
     "metadata": {},
     "output_type": "execute_result"
    }
   ],
   "source": [
    "d[\"k1\"][2][\"k2\"][1]"
   ]
  },
  {
   "cell_type": "code",
   "execution_count": 8,
   "id": "3caa16d8",
   "metadata": {},
   "outputs": [
    {
     "data": {
      "text/plain": [
       "[1, 2, ['hello']]"
      ]
     },
     "execution_count": 8,
     "metadata": {},
     "output_type": "execute_result"
    }
   ],
   "source": [
    "d[\"k1\"][2][\"k2\"][1][\"tough\"]"
   ]
  },
  {
   "cell_type": "code",
   "execution_count": 10,
   "id": "74f9fb11",
   "metadata": {},
   "outputs": [
    {
     "data": {
      "text/plain": [
       "'hello'"
      ]
     },
     "execution_count": 10,
     "metadata": {},
     "output_type": "execute_result"
    }
   ],
   "source": [
    "d[\"k1\"][2][\"k2\"][1][\"tough\"][2][0]"
   ]
  },
  {
   "cell_type": "markdown",
   "id": "d44aa532",
   "metadata": {},
   "source": [
    "Can you sort a dictionary? Why or why not?"
   ]
  }
 ],
 "metadata": {
  "kernelspec": {
   "display_name": "Python 3 (ipykernel)",
   "language": "python",
   "name": "python3"
  },
  "language_info": {
   "codemirror_mode": {
    "name": "ipython",
    "version": 3
   },
   "file_extension": ".py",
   "mimetype": "text/x-python",
   "name": "python",
   "nbconvert_exporter": "python",
   "pygments_lexer": "ipython3",
   "version": "3.9.12"
  }
 },
 "nbformat": 4,
 "nbformat_minor": 5
}
