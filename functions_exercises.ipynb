{
 "cells": [
  {
   "cell_type": "markdown",
   "id": "5eba8786",
   "metadata": {},
   "source": [
    "Excercises\n",
    "Crear una función que va a revisar dos números, si los dos son numeros par debe retornar el numero de menor valor, si uno o los dos son non debe retornar el numero de mayor valor.\n",
    "Hint:\n",
    "\n",
    "Cómo saber si un numero es par o non\n",
    "Como obtener el minimo y el maximo de un conjunto de numeros. valor mayor y valor menor"
   ]
  },
  {
   "cell_type": "code",
   "execution_count": null,
   "id": "20a18c6b",
   "metadata": {},
   "outputs": [],
   "source": []
  },
  {
   "cell_type": "markdown",
   "id": "e7fdfb25",
   "metadata": {},
   "source": [
    "Crear un funcion que revise un string de dos palabras y regrese True si las dos comienzan con la misma letra\n",
    "diego diaz - True\n",
    "\n",
    "monse arenas - False\n",
    "\n",
    "Hint:\n",
    "\n",
    "Comparision Operators\n",
    "Indexing\n",
    "ASCII"
   ]
  },
  {
   "cell_type": "code",
   "execution_count": null,
   "id": "763da706",
   "metadata": {},
   "outputs": [],
   "source": []
  }
 ],
 "metadata": {
  "kernelspec": {
   "display_name": "Python 3 (ipykernel)",
   "language": "python",
   "name": "python3"
  },
  "language_info": {
   "codemirror_mode": {
    "name": "ipython",
    "version": 3
   },
   "file_extension": ".py",
   "mimetype": "text/x-python",
   "name": "python",
   "nbconvert_exporter": "python",
   "pygments_lexer": "ipython3",
   "version": "3.9.12"
  }
 },
 "nbformat": 4,
 "nbformat_minor": 5
}
