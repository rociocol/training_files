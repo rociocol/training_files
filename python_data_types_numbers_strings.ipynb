{
 "cells": [
  {
   "cell_type": "markdown",
   "id": "c9d15056",
   "metadata": {},
   "source": [
    "# Data Types in Python"
   ]
  },
  {
   "cell_type": "markdown",
   "id": "a06d73cd",
   "metadata": {},
   "source": [
    "More on data types: https://www.w3schools.com/python/python_datatypes.asp"
   ]
  },
  {
   "cell_type": "markdown",
   "id": "f55e7f8f",
   "metadata": {},
   "source": [
    "### Determining variable type with type()"
   ]
  },
  {
   "cell_type": "markdown",
   "id": "6419184e",
   "metadata": {},
   "source": [
    "Python's built-in type() function. Common data types include:\n",
    "\n",
    "- int (for integer)\n",
    "- float\n",
    "- str (for string)\n",
    "- list\n",
    "- tuple\n",
    "- dict (for dictionary)\n",
    "- set\n",
    "- bool (for Boolean True/False)"
   ]
  },
  {
   "cell_type": "markdown",
   "id": "eef9dcab",
   "metadata": {},
   "source": [
    "## Numbers"
   ]
  },
  {
   "cell_type": "markdown",
   "id": "6ceec990",
   "metadata": {},
   "source": [
    "### Types of numbers"
   ]
  },
  {
   "cell_type": "markdown",
   "id": "b8b996f6",
   "metadata": {},
   "source": [
    "We'll focus on integers and floating point numbers.\n",
    "\n",
    "Integers are just whole numbers, positive or negative. For example: 7 and -7 are examples of integers.\n",
    "\n",
    "Floating point numbers in Python are notable because they have a decimal point in them, or use an exponential (e) to define the number. For example 7.0 and -7.1 are examples of floating point numbers"
   ]
  },
  {
   "cell_type": "markdown",
   "id": "689c9142",
   "metadata": {},
   "source": [
    "### Basic Arithmetic"
   ]
  },
  {
   "cell_type": "code",
   "execution_count": 3,
   "id": "4ce398af",
   "metadata": {},
   "outputs": [
    {
     "data": {
      "text/plain": [
       "3"
      ]
     },
     "execution_count": 3,
     "metadata": {},
     "output_type": "execute_result"
    }
   ],
   "source": [
    "# Addition\n",
    "# This is a comment\n",
    "2+1"
   ]
  },
  {
   "cell_type": "code",
   "execution_count": 2,
   "id": "82eebe6b",
   "metadata": {},
   "outputs": [
    {
     "data": {
      "text/plain": [
       "1"
      ]
     },
     "execution_count": 2,
     "metadata": {},
     "output_type": "execute_result"
    }
   ],
   "source": [
    "# Subtraction\n",
    "2-1"
   ]
  },
  {
   "cell_type": "code",
   "execution_count": 3,
   "id": "2dc67a89",
   "metadata": {},
   "outputs": [
    {
     "data": {
      "text/plain": [
       "4"
      ]
     },
     "execution_count": 3,
     "metadata": {},
     "output_type": "execute_result"
    }
   ],
   "source": [
    "# Multiplication\n",
    "2*2"
   ]
  },
  {
   "cell_type": "code",
   "execution_count": 4,
   "id": "f7b255d4",
   "metadata": {},
   "outputs": [
    {
     "data": {
      "text/plain": [
       "1.5"
      ]
     },
     "execution_count": 4,
     "metadata": {},
     "output_type": "execute_result"
    }
   ],
   "source": [
    "# Division\n",
    "3/2"
   ]
  },
  {
   "cell_type": "code",
   "execution_count": 4,
   "id": "d05e334f",
   "metadata": {},
   "outputs": [
    {
     "data": {
      "text/plain": [
       "1"
      ]
     },
     "execution_count": 4,
     "metadata": {},
     "output_type": "execute_result"
    }
   ],
   "source": [
    "# Floor Division \n",
    "# The // operator (two forward slashes) truncates the decimal without rounding, and returns an integer result.\n",
    "7//4"
   ]
  },
  {
   "cell_type": "code",
   "execution_count": 5,
   "id": "0f864d4b",
   "metadata": {},
   "outputs": [
    {
     "data": {
      "text/plain": [
       "3"
      ]
     },
     "execution_count": 5,
     "metadata": {},
     "output_type": "execute_result"
    }
   ],
   "source": [
    "# Modulo\n",
    "# The % operator returns the remainder after division.\n",
    "7%4"
   ]
  },
  {
   "cell_type": "markdown",
   "id": "aef106aa",
   "metadata": {},
   "source": [
    "### Order of Operations"
   ]
  },
  {
   "cell_type": "markdown",
   "id": "11d42c34",
   "metadata": {},
   "source": [
    "https://runestone.academy/ns/books/published/thinkcspy/SimplePythonData/OrderofOperations.html"
   ]
  },
  {
   "cell_type": "markdown",
   "id": "b2164e34",
   "metadata": {},
   "source": [
    "## Variables"
   ]
  },
  {
   "cell_type": "markdown",
   "id": "21644530",
   "metadata": {},
   "source": [
    "### Assigning variables"
   ]
  },
  {
   "cell_type": "code",
   "execution_count": 7,
   "id": "9e9088e0",
   "metadata": {},
   "outputs": [],
   "source": [
    "a = 5"
   ]
  },
  {
   "cell_type": "code",
   "execution_count": 8,
   "id": "a6874f3d",
   "metadata": {},
   "outputs": [
    {
     "data": {
      "text/plain": [
       "10"
      ]
     },
     "execution_count": 8,
     "metadata": {},
     "output_type": "execute_result"
    }
   ],
   "source": [
    "a+a"
   ]
  },
  {
   "cell_type": "code",
   "execution_count": 9,
   "id": "c266dc5a",
   "metadata": {},
   "outputs": [
    {
     "data": {
      "text/plain": [
       "5"
      ]
     },
     "execution_count": 9,
     "metadata": {},
     "output_type": "execute_result"
    }
   ],
   "source": [
    "a"
   ]
  },
  {
   "cell_type": "code",
   "execution_count": 10,
   "id": "725ae62b",
   "metadata": {},
   "outputs": [],
   "source": [
    "# Reassignment\n",
    "a = 10"
   ]
  },
  {
   "cell_type": "code",
   "execution_count": 11,
   "id": "bf8ab3f2",
   "metadata": {},
   "outputs": [
    {
     "data": {
      "text/plain": [
       "10"
      ]
     },
     "execution_count": 11,
     "metadata": {},
     "output_type": "execute_result"
    }
   ],
   "source": [
    "a"
   ]
  },
  {
   "cell_type": "code",
   "execution_count": 12,
   "id": "d3aab7c3",
   "metadata": {},
   "outputs": [],
   "source": [
    "a = a + a"
   ]
  },
  {
   "cell_type": "code",
   "execution_count": 13,
   "id": "d6554f2a",
   "metadata": {},
   "outputs": [
    {
     "data": {
      "text/plain": [
       "20"
      ]
     },
     "execution_count": 13,
     "metadata": {},
     "output_type": "execute_result"
    }
   ],
   "source": [
    "a"
   ]
  },
  {
   "cell_type": "code",
   "execution_count": 14,
   "id": "1d14cbf1",
   "metadata": {},
   "outputs": [],
   "source": [
    "# a = a + 10\n",
    "a += 10"
   ]
  },
  {
   "cell_type": "code",
   "execution_count": 17,
   "id": "fdd7e61f",
   "metadata": {},
   "outputs": [
    {
     "data": {
      "text/plain": [
       "60"
      ]
     },
     "execution_count": 17,
     "metadata": {},
     "output_type": "execute_result"
    }
   ],
   "source": [
    "a"
   ]
  },
  {
   "cell_type": "code",
   "execution_count": 18,
   "id": "784d6cf7",
   "metadata": {},
   "outputs": [],
   "source": [
    "# a = a * 2\n",
    "a *= 2"
   ]
  },
  {
   "cell_type": "code",
   "execution_count": 19,
   "id": "8d1e5c05",
   "metadata": {},
   "outputs": [
    {
     "data": {
      "text/plain": [
       "120"
      ]
     },
     "execution_count": 19,
     "metadata": {},
     "output_type": "execute_result"
    }
   ],
   "source": [
    "a"
   ]
  },
  {
   "cell_type": "code",
   "execution_count": 20,
   "id": "1e1f1f4a",
   "metadata": {},
   "outputs": [
    {
     "data": {
      "text/plain": [
       "int"
      ]
     },
     "execution_count": 20,
     "metadata": {},
     "output_type": "execute_result"
    }
   ],
   "source": [
    "type(a)"
   ]
  },
  {
   "cell_type": "code",
   "execution_count": 21,
   "id": "5311bd5f",
   "metadata": {},
   "outputs": [],
   "source": [
    "a = \"Any word\""
   ]
  },
  {
   "cell_type": "code",
   "execution_count": 22,
   "id": "27194723",
   "metadata": {},
   "outputs": [
    {
     "data": {
      "text/plain": [
       "'Any word'"
      ]
     },
     "execution_count": 22,
     "metadata": {},
     "output_type": "execute_result"
    }
   ],
   "source": [
    "a"
   ]
  },
  {
   "cell_type": "code",
   "execution_count": 23,
   "id": "171ac1e9",
   "metadata": {},
   "outputs": [
    {
     "data": {
      "text/plain": [
       "str"
      ]
     },
     "execution_count": 23,
     "metadata": {},
     "output_type": "execute_result"
    }
   ],
   "source": [
    "type(a)"
   ]
  },
  {
   "cell_type": "markdown",
   "id": "43b5965a",
   "metadata": {},
   "source": [
    "1. Names can not start with a number.\n",
    "2. There can be no spaces in the name, use _ instead.\n",
    "3. Can't use any of these symbols :'\",<>/?|\\()!@#$%^&*~-+\n",
    "4. It's considered best practice (PEP8) that names are lowercase.\n",
    "5. Avoid using the characters 'l' (lowercase letter el), 'O' (uppercase letter oh), \n",
    "   or 'I' (uppercase letter eye) as single character variable names.\n",
    "6. Avoid using words that have special meaning in Python like \"list\" and \"str\""
   ]
  },
  {
   "cell_type": "code",
   "execution_count": 25,
   "id": "b285a6b5",
   "metadata": {},
   "outputs": [
    {
     "ename": "SyntaxError",
     "evalue": "invalid syntax (2789110318.py, line 1)",
     "output_type": "error",
     "traceback": [
      "\u001b[0;36m  Input \u001b[0;32mIn [25]\u001b[0;36m\u001b[0m\n\u001b[0;31m    1new_value = 123\u001b[0m\n\u001b[0m     ^\u001b[0m\n\u001b[0;31mSyntaxError\u001b[0m\u001b[0;31m:\u001b[0m invalid syntax\n"
     ]
    }
   ],
   "source": [
    "1new_value = 123"
   ]
  },
  {
   "cell_type": "code",
   "execution_count": 26,
   "id": "6a963d4c",
   "metadata": {},
   "outputs": [
    {
     "ename": "SyntaxError",
     "evalue": "invalid syntax (1323112735.py, line 1)",
     "output_type": "error",
     "traceback": [
      "\u001b[0;36m  Input \u001b[0;32mIn [26]\u001b[0;36m\u001b[0m\n\u001b[0;31m    new vale = 123\u001b[0m\n\u001b[0m        ^\u001b[0m\n\u001b[0;31mSyntaxError\u001b[0m\u001b[0;31m:\u001b[0m invalid syntax\n"
     ]
    }
   ],
   "source": [
    "new value = 123"
   ]
  },
  {
   "cell_type": "code",
   "execution_count": null,
   "id": "e50619e8",
   "metadata": {},
   "outputs": [],
   "source": []
  },
  {
   "cell_type": "markdown",
   "id": "b933af73",
   "metadata": {},
   "source": [
    "# Strings"
   ]
  },
  {
   "cell_type": "markdown",
   "id": "3e60b6aa",
   "metadata": {},
   "source": [
    "**Unmutable**"
   ]
  },
  {
   "cell_type": "code",
   "execution_count": 35,
   "id": "5ab7d9de",
   "metadata": {},
   "outputs": [
    {
     "data": {
      "text/plain": [
       "'Hello World'"
      ]
     },
     "execution_count": 35,
     "metadata": {},
     "output_type": "execute_result"
    }
   ],
   "source": [
    "'Hello World'"
   ]
  },
  {
   "cell_type": "code",
   "execution_count": 91,
   "id": "6d6cd6a7",
   "metadata": {},
   "outputs": [
    {
     "data": {
      "text/plain": [
       "' Hello World '"
      ]
     },
     "execution_count": 91,
     "metadata": {},
     "output_type": "execute_result"
    }
   ],
   "source": [
    "\" Hello World \""
   ]
  },
  {
   "cell_type": "code",
   "execution_count": 92,
   "id": "22f09da2",
   "metadata": {},
   "outputs": [],
   "source": [
    "test_1 = \"Hello\""
   ]
  },
  {
   "cell_type": "code",
   "execution_count": 95,
   "id": "e266e59e",
   "metadata": {},
   "outputs": [],
   "source": [
    "test_2 = \" Hello \""
   ]
  },
  {
   "cell_type": "code",
   "execution_count": 93,
   "id": "b9cb05db",
   "metadata": {},
   "outputs": [
    {
     "data": {
      "text/plain": [
       "5"
      ]
     },
     "execution_count": 93,
     "metadata": {},
     "output_type": "execute_result"
    }
   ],
   "source": [
    "len(test_1)"
   ]
  },
  {
   "cell_type": "code",
   "execution_count": 96,
   "id": "fcea253f",
   "metadata": {},
   "outputs": [
    {
     "data": {
      "text/plain": [
       "7"
      ]
     },
     "execution_count": 96,
     "metadata": {},
     "output_type": "execute_result"
    }
   ],
   "source": [
    "len(test_2)"
   ]
  },
  {
   "cell_type": "code",
   "execution_count": 37,
   "id": "6a34c029",
   "metadata": {},
   "outputs": [
    {
     "ename": "SyntaxError",
     "evalue": "invalid syntax (981311792.py, line 1)",
     "output_type": "error",
     "traceback": [
      "\u001b[0;36m  Input \u001b[0;32mIn [37]\u001b[0;36m\u001b[0m\n\u001b[0;31m    who_you_are = 'I'm Sofia\u001b[0m\n\u001b[0m                     ^\u001b[0m\n\u001b[0;31mSyntaxError\u001b[0m\u001b[0;31m:\u001b[0m invalid syntax\n"
     ]
    }
   ],
   "source": [
    "who_you_are = 'I'm Sofia"
   ]
  },
  {
   "cell_type": "code",
   "execution_count": 29,
   "id": "9b1467ff",
   "metadata": {},
   "outputs": [
    {
     "data": {
      "text/plain": [
       "\"I'm Sofia\""
      ]
     },
     "execution_count": 29,
     "metadata": {},
     "output_type": "execute_result"
    }
   ],
   "source": [
    "# Escaping the character\n",
    "# backslash - backward slash\n",
    "'I\\'m Sofia'"
   ]
  },
  {
   "cell_type": "code",
   "execution_count": 38,
   "id": "bd7c7731",
   "metadata": {},
   "outputs": [],
   "source": [
    "who_you_are = \"I'm Sofia\""
   ]
  },
  {
   "cell_type": "markdown",
   "id": "a64d3ed9",
   "metadata": {},
   "source": [
    "### Print Statement"
   ]
  },
  {
   "cell_type": "code",
   "execution_count": 41,
   "id": "f566c942",
   "metadata": {},
   "outputs": [
    {
     "name": "stdout",
     "output_type": "stream",
     "text": [
      "Hello World 1\n",
      "Hello World 2\n",
      "Use \n",
      " to print a new line\n",
      "\n",
      "\n",
      "See what I mean?\n"
     ]
    }
   ],
   "source": [
    "#  Best Friend Forever\n",
    "\n",
    "print('Hello World 1')\n",
    "print('Hello World 2')\n",
    "print('Use \\n to print a new line')\n",
    "print('\\n')\n",
    "print('See what I mean?')"
   ]
  },
  {
   "cell_type": "code",
   "execution_count": 30,
   "id": "e2ed6980",
   "metadata": {},
   "outputs": [
    {
     "name": "stdout",
     "output_type": "stream",
     "text": [
      "Hi\n"
     ]
    }
   ],
   "source": [
    "print(\"Hi\")"
   ]
  },
  {
   "cell_type": "code",
   "execution_count": 31,
   "id": "e65257dc",
   "metadata": {},
   "outputs": [],
   "source": [
    "name = \"Sofia\""
   ]
  },
  {
   "cell_type": "code",
   "execution_count": 36,
   "id": "6f6ada45",
   "metadata": {},
   "outputs": [
    {
     "name": "stdout",
     "output_type": "stream",
     "text": [
      "Chio\n"
     ]
    }
   ],
   "source": [
    "print(name)"
   ]
  },
  {
   "cell_type": "code",
   "execution_count": 33,
   "id": "837588a5",
   "metadata": {},
   "outputs": [],
   "source": [
    "name = \"Mon\""
   ]
  },
  {
   "cell_type": "code",
   "execution_count": 35,
   "id": "d62b61c1",
   "metadata": {},
   "outputs": [],
   "source": [
    "name = \"Chio\""
   ]
  },
  {
   "cell_type": "markdown",
   "id": "717ed54d",
   "metadata": {},
   "source": [
    "## String Basic Methods"
   ]
  },
  {
   "cell_type": "code",
   "execution_count": 39,
   "id": "40e8fa6d",
   "metadata": {},
   "outputs": [
    {
     "data": {
      "text/plain": [
       "21"
      ]
     },
     "execution_count": 39,
     "metadata": {},
     "output_type": "execute_result"
    }
   ],
   "source": [
    "len(\"Hello World in Python\")"
   ]
  },
  {
   "cell_type": "code",
   "execution_count": 45,
   "id": "23732d92",
   "metadata": {},
   "outputs": [
    {
     "data": {
      "text/plain": [
       "str"
      ]
     },
     "execution_count": 45,
     "metadata": {},
     "output_type": "execute_result"
    }
   ],
   "source": [
    "type(not_number)"
   ]
  },
  {
   "cell_type": "code",
   "execution_count": 46,
   "id": "5be808a4",
   "metadata": {},
   "outputs": [
    {
     "data": {
      "text/plain": [
       "3"
      ]
     },
     "execution_count": 46,
     "metadata": {},
     "output_type": "execute_result"
    }
   ],
   "source": [
    "len(not_number)"
   ]
  },
  {
   "cell_type": "code",
   "execution_count": 44,
   "id": "4d1518bd",
   "metadata": {},
   "outputs": [],
   "source": [
    "not_number = \"123\""
   ]
  },
  {
   "cell_type": "code",
   "execution_count": 50,
   "id": "00358409",
   "metadata": {},
   "outputs": [],
   "source": [
    "phrase = \"Jello World\""
   ]
  },
  {
   "cell_type": "code",
   "execution_count": 48,
   "id": "ff3d2927",
   "metadata": {},
   "outputs": [
    {
     "name": "stdout",
     "output_type": "stream",
     "text": [
      "Hello World\n"
     ]
    }
   ],
   "source": [
    "print(phrase)"
   ]
  },
  {
   "cell_type": "code",
   "execution_count": 43,
   "id": "557cca13",
   "metadata": {},
   "outputs": [
    {
     "data": {
      "text/plain": [
       "11"
      ]
     },
     "execution_count": 43,
     "metadata": {},
     "output_type": "execute_result"
    }
   ],
   "source": [
    "len(s)"
   ]
  },
  {
   "cell_type": "code",
   "execution_count": null,
   "id": "b181ec02",
   "metadata": {},
   "outputs": [],
   "source": [
    "# Print the object\n",
    "print(s) "
   ]
  },
  {
   "cell_type": "markdown",
   "id": "ffa76015",
   "metadata": {},
   "source": [
    "## Index"
   ]
  },
  {
   "cell_type": "markdown",
   "id": "614550e5",
   "metadata": {},
   "source": [
    "**Position**"
   ]
  },
  {
   "cell_type": "code",
   "execution_count": 51,
   "id": "666d1ee4",
   "metadata": {},
   "outputs": [
    {
     "data": {
      "text/plain": [
       "'J'"
      ]
     },
     "execution_count": 51,
     "metadata": {},
     "output_type": "execute_result"
    }
   ],
   "source": [
    "phrase[0]"
   ]
  },
  {
   "cell_type": "code",
   "execution_count": 52,
   "id": "8dbaffc5",
   "metadata": {},
   "outputs": [
    {
     "data": {
      "text/plain": [
       "'e'"
      ]
     },
     "execution_count": 52,
     "metadata": {},
     "output_type": "execute_result"
    }
   ],
   "source": [
    "phrase[1]"
   ]
  },
  {
   "cell_type": "code",
   "execution_count": 53,
   "id": "7a161988",
   "metadata": {},
   "outputs": [
    {
     "data": {
      "text/plain": [
       "' '"
      ]
     },
     "execution_count": 53,
     "metadata": {},
     "output_type": "execute_result"
    }
   ],
   "source": [
    "phrase[5]"
   ]
  },
  {
   "cell_type": "code",
   "execution_count": 56,
   "id": "99d88dc5",
   "metadata": {},
   "outputs": [
    {
     "data": {
      "text/plain": [
       "'lo World'"
      ]
     },
     "execution_count": 56,
     "metadata": {},
     "output_type": "execute_result"
    }
   ],
   "source": [
    "phrase[3:]"
   ]
  },
  {
   "cell_type": "code",
   "execution_count": 61,
   "id": "837c2ba7",
   "metadata": {},
   "outputs": [
    {
     "data": {
      "text/plain": [
       "'Jello '"
      ]
     },
     "execution_count": 61,
     "metadata": {},
     "output_type": "execute_result"
    }
   ],
   "source": [
    "phrase[:6]"
   ]
  },
  {
   "cell_type": "code",
   "execution_count": 62,
   "id": "54396ae0",
   "metadata": {},
   "outputs": [
    {
     "data": {
      "text/plain": [
       "'Jello World'"
      ]
     },
     "execution_count": 62,
     "metadata": {},
     "output_type": "execute_result"
    }
   ],
   "source": [
    "phrase[:]"
   ]
  },
  {
   "cell_type": "code",
   "execution_count": 65,
   "id": "c7b4bdad",
   "metadata": {},
   "outputs": [
    {
     "data": {
      "text/plain": [
       "'r'"
      ]
     },
     "execution_count": 65,
     "metadata": {},
     "output_type": "execute_result"
    }
   ],
   "source": [
    "phrase[-3]\n"
   ]
  },
  {
   "cell_type": "code",
   "execution_count": 69,
   "id": "d5d3f9b2",
   "metadata": {},
   "outputs": [
    {
     "data": {
      "text/plain": [
       "'Jor'"
      ]
     },
     "execution_count": 69,
     "metadata": {},
     "output_type": "execute_result"
    }
   ],
   "source": [
    "phrase[::4]"
   ]
  },
  {
   "cell_type": "code",
   "execution_count": 71,
   "id": "508bf71b",
   "metadata": {},
   "outputs": [
    {
     "data": {
      "text/plain": [
       "'el'"
      ]
     },
     "execution_count": 71,
     "metadata": {},
     "output_type": "execute_result"
    }
   ],
   "source": [
    "# [starting position : finsih position : number of positions to jump by]\n",
    "phrase[1:5:2]"
   ]
  },
  {
   "cell_type": "code",
   "execution_count": 72,
   "id": "d6985137",
   "metadata": {},
   "outputs": [],
   "source": [
    "ticket = \"ticket12032456\""
   ]
  },
  {
   "cell_type": "code",
   "execution_count": 78,
   "id": "a36a3295",
   "metadata": {},
   "outputs": [],
   "source": [
    "ticket_number = ticket[6:]"
   ]
  },
  {
   "cell_type": "code",
   "execution_count": 79,
   "id": "bc5584ab",
   "metadata": {},
   "outputs": [
    {
     "data": {
      "text/plain": [
       "'12032456'"
      ]
     },
     "execution_count": 79,
     "metadata": {},
     "output_type": "execute_result"
    }
   ],
   "source": [
    "ticket_number"
   ]
  },
  {
   "cell_type": "code",
   "execution_count": 80,
   "id": "8b730aa3",
   "metadata": {},
   "outputs": [
    {
     "data": {
      "text/plain": [
       "'dlroW olleJ'"
      ]
     },
     "execution_count": 80,
     "metadata": {},
     "output_type": "execute_result"
    }
   ],
   "source": [
    "phrase[::-1]"
   ]
  },
  {
   "cell_type": "markdown",
   "id": "9f22275a",
   "metadata": {},
   "source": [
    "## String Properties\n"
   ]
  },
  {
   "cell_type": "markdown",
   "id": "2e51c342",
   "metadata": {},
   "source": [
    "It's important to note that strings have an important property known as immutability. This means that once a string is created, the elements within it can not be changed or replaced. For example:"
   ]
  },
  {
   "cell_type": "code",
   "execution_count": 81,
   "id": "f2a0cbbd",
   "metadata": {},
   "outputs": [
    {
     "ename": "TypeError",
     "evalue": "'str' object does not support item assignment",
     "output_type": "error",
     "traceback": [
      "\u001b[0;31m---------------------------------------------------------------------------\u001b[0m",
      "\u001b[0;31mTypeError\u001b[0m                                 Traceback (most recent call last)",
      "Input \u001b[0;32mIn [81]\u001b[0m, in \u001b[0;36m<cell line: 1>\u001b[0;34m()\u001b[0m\n\u001b[0;32m----> 1\u001b[0m phrase[\u001b[38;5;241m0\u001b[39m] \u001b[38;5;241m=\u001b[39m \u001b[38;5;124m'\u001b[39m\u001b[38;5;124mH\u001b[39m\u001b[38;5;124m'\u001b[39m\n",
      "\u001b[0;31mTypeError\u001b[0m: 'str' object does not support item assignment"
     ]
    }
   ],
   "source": [
    "phrase[0] = 'H'"
   ]
  },
  {
   "cell_type": "code",
   "execution_count": 82,
   "id": "76ac9b17",
   "metadata": {},
   "outputs": [],
   "source": [
    "number = 1"
   ]
  },
  {
   "cell_type": "code",
   "execution_count": 86,
   "id": "53da3597",
   "metadata": {},
   "outputs": [],
   "source": [
    "name = \"Mon\""
   ]
  },
  {
   "cell_type": "code",
   "execution_count": 88,
   "id": "894c1933",
   "metadata": {},
   "outputs": [],
   "source": [
    "name = \"Ana\""
   ]
  },
  {
   "cell_type": "code",
   "execution_count": 90,
   "id": "23899e45",
   "metadata": {},
   "outputs": [
    {
     "ename": "NameError",
     "evalue": "name 'E' is not defined",
     "output_type": "error",
     "traceback": [
      "\u001b[0;31m---------------------------------------------------------------------------\u001b[0m",
      "\u001b[0;31mNameError\u001b[0m                                 Traceback (most recent call last)",
      "Input \u001b[0;32mIn [90]\u001b[0m, in \u001b[0;36m<cell line: 1>\u001b[0;34m()\u001b[0m\n\u001b[0;32m----> 1\u001b[0m name[\u001b[38;5;241m0\u001b[39m] \u001b[38;5;241m=\u001b[39m \u001b[43mE\u001b[49m\n",
      "\u001b[0;31mNameError\u001b[0m: name 'E' is not defined"
     ]
    }
   ],
   "source": [
    "name[0] = E"
   ]
  },
  {
   "cell_type": "code",
   "execution_count": 85,
   "id": "8d3985bd",
   "metadata": {},
   "outputs": [
    {
     "name": "stdout",
     "output_type": "stream",
     "text": [
      "2\n"
     ]
    }
   ],
   "source": [
    "print(number)"
   ]
  },
  {
   "cell_type": "code",
   "execution_count": 89,
   "id": "350d8b8e",
   "metadata": {},
   "outputs": [
    {
     "name": "stdout",
     "output_type": "stream",
     "text": [
      "Ana\n"
     ]
    }
   ],
   "source": [
    "print(name)"
   ]
  },
  {
   "cell_type": "code",
   "execution_count": 84,
   "id": "1d5ea230",
   "metadata": {},
   "outputs": [],
   "source": [
    "number = 2"
   ]
  },
  {
   "cell_type": "code",
   "execution_count": 97,
   "id": "1c23b0cc",
   "metadata": {},
   "outputs": [
    {
     "data": {
      "text/plain": [
       "'Jello World in Python'"
      ]
     },
     "execution_count": 97,
     "metadata": {},
     "output_type": "execute_result"
    }
   ],
   "source": [
    "phrase + \" in Python\""
   ]
  },
  {
   "cell_type": "code",
   "execution_count": 98,
   "id": "281e7d90",
   "metadata": {},
   "outputs": [
    {
     "data": {
      "text/plain": [
       "'Jello World'"
      ]
     },
     "execution_count": 98,
     "metadata": {},
     "output_type": "execute_result"
    }
   ],
   "source": [
    "phrase"
   ]
  },
  {
   "cell_type": "code",
   "execution_count": 99,
   "id": "7d0a7770",
   "metadata": {},
   "outputs": [],
   "source": [
    "new_phrase = phrase + \" in Python\""
   ]
  },
  {
   "cell_type": "code",
   "execution_count": 100,
   "id": "ac294810",
   "metadata": {},
   "outputs": [
    {
     "name": "stdout",
     "output_type": "stream",
     "text": [
      "Jello World in Python\n"
     ]
    }
   ],
   "source": [
    "print(new_phrase)"
   ]
  },
  {
   "cell_type": "code",
   "execution_count": 101,
   "id": "3794daa9",
   "metadata": {},
   "outputs": [
    {
     "name": "stdout",
     "output_type": "stream",
     "text": [
      "Jello World\n"
     ]
    }
   ],
   "source": [
    "print(phrase)"
   ]
  },
  {
   "cell_type": "code",
   "execution_count": 103,
   "id": "65b4654c",
   "metadata": {},
   "outputs": [],
   "source": [
    "letter = \"hola\""
   ]
  },
  {
   "cell_type": "code",
   "execution_count": 104,
   "id": "fb16ade2",
   "metadata": {},
   "outputs": [
    {
     "data": {
      "text/plain": [
       "'holaholaholaholaholaholaholaholaholahola'"
      ]
     },
     "execution_count": 104,
     "metadata": {},
     "output_type": "execute_result"
    }
   ],
   "source": [
    "letter*10"
   ]
  },
  {
   "cell_type": "markdown",
   "id": "8383a175",
   "metadata": {},
   "source": [
    "## Basic Built-in String methods\n"
   ]
  },
  {
   "cell_type": "code",
   "execution_count": 61,
   "id": "4783a43c",
   "metadata": {},
   "outputs": [
    {
     "data": {
      "text/plain": [
       "'HELLO WORLD IN PYTHON'"
      ]
     },
     "execution_count": 61,
     "metadata": {},
     "output_type": "execute_result"
    }
   ],
   "source": [
    "s.upper()"
   ]
  },
  {
   "cell_type": "code",
   "execution_count": 62,
   "id": "d5519251",
   "metadata": {},
   "outputs": [
    {
     "data": {
      "text/plain": [
       "'hello world in python'"
      ]
     },
     "execution_count": 62,
     "metadata": {},
     "output_type": "execute_result"
    }
   ],
   "source": [
    "s.lower()"
   ]
  },
  {
   "cell_type": "code",
   "execution_count": 63,
   "id": "e75ce000",
   "metadata": {},
   "outputs": [
    {
     "data": {
      "text/plain": [
       "['Hello', 'World', 'in', 'Python']"
      ]
     },
     "execution_count": 63,
     "metadata": {},
     "output_type": "execute_result"
    }
   ],
   "source": [
    "s.split()"
   ]
  },
  {
   "cell_type": "code",
   "execution_count": 64,
   "id": "68b2693f",
   "metadata": {},
   "outputs": [
    {
     "data": {
      "text/plain": [
       "['Hello ', 'orld in Python']"
      ]
     },
     "execution_count": 64,
     "metadata": {},
     "output_type": "execute_result"
    }
   ],
   "source": [
    "s.split('W')"
   ]
  },
  {
   "cell_type": "code",
   "execution_count": 65,
   "id": "43610ab9",
   "metadata": {},
   "outputs": [
    {
     "data": {
      "text/plain": [
       "'Insert another string with curly brackets: The inserted string'"
      ]
     },
     "execution_count": 65,
     "metadata": {},
     "output_type": "execute_result"
    }
   ],
   "source": [
    "\"Insert another string with curly brackets: {}\".format(\"The inserted string\")"
   ]
  },
  {
   "cell_type": "markdown",
   "id": "e340472a",
   "metadata": {},
   "source": [
    "There are three ways to perform string formatting.\n",
    "\n",
    "The oldest method involves placeholders using the modulo % character.\n",
    "An improved technique uses the .format() string method.\n",
    "The newest method, introduced with Python 3.6, uses formatted string literals, called f-strings."
   ]
  },
  {
   "cell_type": "code",
   "execution_count": 66,
   "id": "efe038f2",
   "metadata": {},
   "outputs": [
    {
     "name": "stdout",
     "output_type": "stream",
     "text": [
      "He said his name is Sofia.\n"
     ]
    }
   ],
   "source": [
    "name = \"Sofia\"\n",
    "\n",
    "print(f\"She said his name is {name}.\")"
   ]
  },
  {
   "cell_type": "code",
   "execution_count": 67,
   "id": "7371ea14",
   "metadata": {},
   "outputs": [
    {
     "name": "stdout",
     "output_type": "stream",
     "text": [
      "He said his name is 'Sofia'\n"
     ]
    }
   ],
   "source": [
    "print(f\"He said his name is {name!r}\")"
   ]
  }
 ],
 "metadata": {
  "kernelspec": {
   "display_name": "Python 3 (ipykernel)",
   "language": "python",
   "name": "python3"
  },
  "language_info": {
   "codemirror_mode": {
    "name": "ipython",
    "version": 3
   },
   "file_extension": ".py",
   "mimetype": "text/x-python",
   "name": "python",
   "nbconvert_exporter": "python",
   "pygments_lexer": "ipython3",
   "version": "3.9.12"
  }
 },
 "nbformat": 4,
 "nbformat_minor": 5
}
