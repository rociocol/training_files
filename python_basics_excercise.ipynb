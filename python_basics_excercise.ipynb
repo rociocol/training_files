{
 "cells": [
  {
   "cell_type": "markdown",
   "id": "6f62232f",
   "metadata": {},
   "source": [
    "1. Answer these 3 questions without typing code. Then type code to check your answer.\n",
    "\n",
    "What is the value of the expression 4 * (6 + 5) 44\n",
    "\n",
    "What is the value of the expression 4 * 6 + 5 29\n",
    "\n",
    "What is the value of the expression 4 + 6 * 5  34"
   ]
  },
  {
   "cell_type": "markdown",
   "id": "303f3709",
   "metadata": {},
   "source": [
    "2. Store each result in a variable and obtain the data type\n",
    "\n"
   ]
  },
  {
   "cell_type": "code",
   "execution_count": 1,
   "id": "b763e3df",
   "metadata": {},
   "outputs": [],
   "source": [
    "a = 44"
   ]
  },
  {
   "cell_type": "code",
   "execution_count": 2,
   "id": "a18ba566",
   "metadata": {},
   "outputs": [],
   "source": [
    "b = 29"
   ]
  },
  {
   "cell_type": "code",
   "execution_count": 4,
   "id": "011a04f3",
   "metadata": {},
   "outputs": [],
   "source": [
    "c = 34"
   ]
  },
  {
   "cell_type": "code",
   "execution_count": 5,
   "id": "340df732",
   "metadata": {},
   "outputs": [
    {
     "data": {
      "text/plain": [
       "int"
      ]
     },
     "execution_count": 5,
     "metadata": {},
     "output_type": "execute_result"
    }
   ],
   "source": [
    "type (a)"
   ]
  },
  {
   "cell_type": "code",
   "execution_count": 7,
   "id": "a6c55d62",
   "metadata": {},
   "outputs": [
    {
     "data": {
      "text/plain": [
       "int"
      ]
     },
     "execution_count": 7,
     "metadata": {},
     "output_type": "execute_result"
    }
   ],
   "source": [
    "type (b)"
   ]
  },
  {
   "cell_type": "code",
   "execution_count": 8,
   "id": "7c400185",
   "metadata": {},
   "outputs": [
    {
     "data": {
      "text/plain": [
       "int"
      ]
     },
     "execution_count": 8,
     "metadata": {},
     "output_type": "execute_result"
    }
   ],
   "source": [
    "type (c)"
   ]
  },
  {
   "cell_type": "markdown",
   "id": "85dee4cf",
   "metadata": {},
   "source": [
    "\n",
    "3. Print out 'e' using indexing\n",
    "\n",
    "s = \"hello\"\n"
   ]
  },
  {
   "cell_type": "code",
   "execution_count": 18,
   "id": "10019e3b",
   "metadata": {},
   "outputs": [],
   "source": [
    "s = \"hello\""
   ]
  },
  {
   "cell_type": "code",
   "execution_count": 20,
   "id": "fbd49a8a",
   "metadata": {},
   "outputs": [
    {
     "data": {
      "text/plain": [
       "'e'"
      ]
     },
     "execution_count": 20,
     "metadata": {},
     "output_type": "execute_result"
    }
   ],
   "source": [
    "s[1]"
   ]
  },
  {
   "cell_type": "markdown",
   "id": "e41341df",
   "metadata": {},
   "source": [
    "4. Reverse the string using slicing"
   ]
  },
  {
   "cell_type": "code",
   "execution_count": 21,
   "id": "a5f99c6e",
   "metadata": {},
   "outputs": [
    {
     "data": {
      "text/plain": [
       "'o'"
      ]
     },
     "execution_count": 21,
     "metadata": {},
     "output_type": "execute_result"
    }
   ],
   "source": [
    "s[4:]"
   ]
  },
  {
   "cell_type": "code",
   "execution_count": 22,
   "id": "c51698fb",
   "metadata": {},
   "outputs": [
    {
     "data": {
      "text/plain": [
       "'hl'"
      ]
     },
     "execution_count": 22,
     "metadata": {},
     "output_type": "execute_result"
    }
   ],
   "source": [
    "s[::3]"
   ]
  },
  {
   "cell_type": "markdown",
   "id": "0a5fa8e7",
   "metadata": {},
   "source": [
    "5. Print out the 'o'\n",
    "\n",
    "   Method 1:\n",
    "   \n",
    "   Method 2:"
   ]
  },
  {
   "cell_type": "code",
   "execution_count": 23,
   "id": "16ebc48a",
   "metadata": {},
   "outputs": [
    {
     "data": {
      "text/plain": [
       "'o'"
      ]
     },
     "execution_count": 23,
     "metadata": {},
     "output_type": "execute_result"
    }
   ],
   "source": [
    "s[4]"
   ]
  },
  {
   "cell_type": "code",
   "execution_count": 24,
   "id": "aaed6efd",
   "metadata": {},
   "outputs": [
    {
     "data": {
      "text/plain": [
       "'o'"
      ]
     },
     "execution_count": 24,
     "metadata": {},
     "output_type": "execute_result"
    }
   ],
   "source": [
    "s[4:]"
   ]
  },
  {
   "cell_type": "markdown",
   "id": "32d7f048",
   "metadata": {},
   "source": [
    "Variable:"
   ]
  },
  {
   "cell_type": "code",
   "execution_count": 5,
   "id": "8e2ad70a",
   "metadata": {},
   "outputs": [],
   "source": [
    "my_name = \"Reasign it with your full name\""
   ]
  },
  {
   "cell_type": "markdown",
   "id": "2cc9e0d5",
   "metadata": {},
   "source": [
    "6 . Reassign the variable"
   ]
  },
  {
   "cell_type": "code",
   "execution_count": 31,
   "id": "9e720276",
   "metadata": {},
   "outputs": [],
   "source": [
    "my_name = \"Rocío Guadalupe Cebón Ynclán\""
   ]
  },
  {
   "cell_type": "markdown",
   "id": "e5ce7837",
   "metadata": {},
   "source": [
    "7.Transform it to upper case"
   ]
  },
  {
   "cell_type": "code",
   "execution_count": 33,
   "id": "50ee76d2",
   "metadata": {},
   "outputs": [
    {
     "data": {
      "text/plain": [
       "'ROCÍO GUADALUPE CEBÓN YNCLÁN'"
      ]
     },
     "execution_count": 33,
     "metadata": {},
     "output_type": "execute_result"
    }
   ],
   "source": [
    "my_name.upper()"
   ]
  },
  {
   "cell_type": "markdown",
   "id": "10b443a0",
   "metadata": {},
   "source": [
    "8.Transform it to lower case\n"
   ]
  },
  {
   "cell_type": "code",
   "execution_count": 34,
   "id": "89593074",
   "metadata": {},
   "outputs": [
    {
     "data": {
      "text/plain": [
       "'rocío guadalupe cebón ynclán'"
      ]
     },
     "execution_count": 34,
     "metadata": {},
     "output_type": "execute_result"
    }
   ],
   "source": [
    "my_name.lower()"
   ]
  },
  {
   "cell_type": "markdown",
   "id": "c0928bcc",
   "metadata": {},
   "source": [
    "9.Reassign the variable with a list of your name by splitting it"
   ]
  },
  {
   "cell_type": "code",
   "execution_count": 36,
   "id": "f894f4a4",
   "metadata": {},
   "outputs": [
    {
     "data": {
      "text/plain": [
       "['Rocío', 'Guadalupe', 'Cebón', 'Ynclán']"
      ]
     },
     "execution_count": 36,
     "metadata": {},
     "output_type": "execute_result"
    }
   ],
   "source": [
    "my_name.split ()"
   ]
  },
  {
   "cell_type": "code",
   "execution_count": 38,
   "id": "75d9962a",
   "metadata": {},
   "outputs": [
    {
     "data": {
      "text/plain": [
       "['R', 'cí', ' Guadalupe Cebón Ynclán']"
      ]
     },
     "execution_count": 38,
     "metadata": {},
     "output_type": "execute_result"
    }
   ],
   "source": [
    "my_name.split(\"o\")"
   ]
  },
  {
   "cell_type": "code",
   "execution_count": 35,
   "id": "0df7dbb0",
   "metadata": {},
   "outputs": [
    {
     "data": {
      "text/plain": [
       "['R',\n",
       " 'o',\n",
       " 'c',\n",
       " 'í',\n",
       " 'o',\n",
       " ' ',\n",
       " 'G',\n",
       " 'u',\n",
       " 'a',\n",
       " 'd',\n",
       " 'a',\n",
       " 'l',\n",
       " 'u',\n",
       " 'p',\n",
       " 'e',\n",
       " ' ',\n",
       " 'C',\n",
       " 'e',\n",
       " 'b',\n",
       " 'ó',\n",
       " 'n',\n",
       " ' ',\n",
       " 'Y',\n",
       " 'n',\n",
       " 'c',\n",
       " 'l',\n",
       " 'á',\n",
       " 'n']"
      ]
     },
     "execution_count": 35,
     "metadata": {},
     "output_type": "execute_result"
    }
   ],
   "source": [
    "list(my_name)"
   ]
  },
  {
   "cell_type": "markdown",
   "id": "34b90d56",
   "metadata": {},
   "source": [
    "10.Variables containing numbers are mutable?"
   ]
  },
  {
   "cell_type": "code",
   "execution_count": null,
   "id": "1abcfadd",
   "metadata": {},
   "outputs": [],
   "source": [
    "true"
   ]
  },
  {
   "cell_type": "markdown",
   "id": "c970a164",
   "metadata": {},
   "source": [
    "11.Variables containing strings are inmutable?"
   ]
  },
  {
   "cell_type": "code",
   "execution_count": null,
   "id": "2b21b650",
   "metadata": {},
   "outputs": [],
   "source": [
    "false"
   ]
  }
 ],
 "metadata": {
  "kernelspec": {
   "display_name": "Python 3 (ipykernel)",
   "language": "python",
   "name": "python3"
  },
  "language_info": {
   "codemirror_mode": {
    "name": "ipython",
    "version": 3
   },
   "file_extension": ".py",
   "mimetype": "text/x-python",
   "name": "python",
   "nbconvert_exporter": "python",
   "pygments_lexer": "ipython3",
   "version": "3.9.12"
  }
 },
 "nbformat": 4,
 "nbformat_minor": 5
}
