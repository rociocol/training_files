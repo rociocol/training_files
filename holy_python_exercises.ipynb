{
 "cells": [
  {
   "cell_type": "code",
   "execution_count": 1,
   "id": "3d72b549",
   "metadata": {},
   "outputs": [
    {
     "name": "stdout",
     "output_type": "stream",
     "text": [
      "hola mundo!\n"
     ]
    }
   ],
   "source": [
    "# Replace \"type here\" on line 2 with \"Hello World!\"\n",
    "print(\"hola mundo!\")"
   ]
  },
  {
   "cell_type": "code",
   "execution_count": 2,
   "id": "0ddf5653",
   "metadata": {},
   "outputs": [
    {
     "name": "stdout",
     "output_type": "stream",
     "text": [
      "Hello World!\n"
     ]
    }
   ],
   "source": [
    "# You can assign \"Hello World!\" to the variable below on line 3.\n",
    "\n",
    "my_text=\"Hello World!\"\n",
    "print(my_text)"
   ]
  },
  {
   "cell_type": "code",
   "execution_count": 3,
   "id": "de4aef82",
   "metadata": {},
   "outputs": [
    {
     "name": "stdout",
     "output_type": "stream",
     "text": [
      "Oreo Guerito Tito Gato Lupito Coco Riu Dean Samy Mina\n"
     ]
    }
   ],
   "source": [
    "# Type a couple of different values on line 9 inside the print function. Make sure they are separated by commas.    \n",
    "    \n",
    "print(\"Oreo\", \"Guerito\", \"Tito\", \"Gato\", \"Lupito\", \"Coco\", \"Riu\", \"Dean\", \"Samy\", \"Mina\")\n",
    "\n",
    "\n"
   ]
  },
  {
   "cell_type": "code",
   "execution_count": null,
   "id": "5dfb14ec",
   "metadata": {},
   "outputs": [],
   "source": []
  }
 ],
 "metadata": {
  "kernelspec": {
   "display_name": "Python 3 (ipykernel)",
   "language": "python",
   "name": "python3"
  },
  "language_info": {
   "codemirror_mode": {
    "name": "ipython",
    "version": 3
   },
   "file_extension": ".py",
   "mimetype": "text/x-python",
   "name": "python",
   "nbconvert_exporter": "python",
   "pygments_lexer": "ipython3",
   "version": "3.9.12"
  }
 },
 "nbformat": 4,
 "nbformat_minor": 5
}
