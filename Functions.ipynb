{
 "cells": [
  {
   "cell_type": "markdown",
   "id": "7cadaba1",
   "metadata": {},
   "source": [
    "## Functions"
   ]
  },
  {
   "cell_type": "markdown",
   "id": "cad9918a",
   "metadata": {},
   "source": [
    "Una función empieza con def y la otra el nombre que le estamos asignando - abro y cierro paréntesis y dos puntos"
   ]
  },
  {
   "cell_type": "code",
   "execution_count": 8,
   "id": "bb22f433",
   "metadata": {},
   "outputs": [],
   "source": [
    "def greeting():\n",
    "    #here is the code\n",
    "    print(\"hello world from this function!\")"
   ]
  },
  {
   "cell_type": "code",
   "execution_count": 9,
   "id": "853b7d1a",
   "metadata": {},
   "outputs": [
    {
     "name": "stdout",
     "output_type": "stream",
     "text": [
      "hello world from this function!\n"
     ]
    }
   ],
   "source": [
    "#calling the function\n",
    "greeting()"
   ]
  },
  {
   "cell_type": "code",
   "execution_count": 8,
   "id": "3d73d5d7",
   "metadata": {},
   "outputs": [],
   "source": [
    "#function with arguments definition\n",
    "def greeting_1(name, lastname):\n",
    "    print(f\"Hello, world, I'm {name}\")\n"
   ]
  },
  {
   "cell_type": "code",
   "execution_count": 6,
   "id": "28179a9f",
   "metadata": {},
   "outputs": [
    {
     "name": "stdout",
     "output_type": "stream",
     "text": [
      "Hello, world, I'm Rocío Cerbón\n"
     ]
    }
   ],
   "source": [
    "greeting_2(\"Rocío\", \" Cerbón\")"
   ]
  },
  {
   "cell_type": "markdown",
   "id": "61c14fbd",
   "metadata": {},
   "source": [
    "#Story: Print welcome message from each ELC member"
   ]
  },
  {
   "cell_type": "code",
   "execution_count": 39,
   "id": "70cb809b",
   "metadata": {},
   "outputs": [],
   "source": [
    "elc_members_name = [\"Sofía Mejía\", \"Rocío Cerbón\", \"Carlos Yupanqui\", \"Diego Ugalde\", \"Ana Haza\", \"Pri Biswas\", \"Z Qiu\", \n",
    "                    \"Mon Arenas\", \"Vicky Cabral\", \"Lily Torres\", \"July Angeles\", \"Gerry Reynoso\"]\n",
    "                    "
   ]
  },
  {
   "cell_type": "code",
   "execution_count": 40,
   "id": "3859d7d5",
   "metadata": {},
   "outputs": [
    {
     "name": "stdout",
     "output_type": "stream",
     "text": [
      "['Sofía Mejía', 'Rocío Cerbón', 'Carlos Yupanqui', 'Diego Ugalde', 'Ana Haza', 'Pri Biswas', 'Z Qiu', 'Mon Arenas', 'Vicky Cabral', 'Lily Torres', 'July Angeles', 'Gerry Reynoso']\n"
     ]
    }
   ],
   "source": [
    "print(elc_members_name)"
   ]
  },
  {
   "cell_type": "code",
   "execution_count": 41,
   "id": "dce95567",
   "metadata": {},
   "outputs": [],
   "source": [
    "def greeting_2(fullname):\n",
    "    #print(fullname)\n",
    "    for name in fullname:\n",
    "        print(f\"Welcome to ML ops team, {name}\")"
   ]
  },
  {
   "cell_type": "code",
   "execution_count": 42,
   "id": "066eef26",
   "metadata": {},
   "outputs": [
    {
     "name": "stdout",
     "output_type": "stream",
     "text": [
      "Welcome to ML ops team, Sofía Mejía\n",
      "Welcome to ML ops team, Rocío Cerbón\n",
      "Welcome to ML ops team, Carlos Yupanqui\n",
      "Welcome to ML ops team, Diego Ugalde\n",
      "Welcome to ML ops team, Ana Haza\n",
      "Welcome to ML ops team, Pri Biswas\n",
      "Welcome to ML ops team, Z Qiu\n",
      "Welcome to ML ops team, Mon Arenas\n",
      "Welcome to ML ops team, Vicky Cabral\n",
      "Welcome to ML ops team, Lily Torres\n",
      "Welcome to ML ops team, July Angeles\n",
      "Welcome to ML ops team, Gerry Reynoso\n"
     ]
    }
   ],
   "source": [
    "greeting_2(elc_members_name)"
   ]
  },
  {
   "cell_type": "code",
   "execution_count": null,
   "id": "4bce6611",
   "metadata": {},
   "outputs": [],
   "source": []
  }
 ],
 "metadata": {
  "kernelspec": {
   "display_name": "Python 3 (ipykernel)",
   "language": "python",
   "name": "python3"
  },
  "language_info": {
   "codemirror_mode": {
    "name": "ipython",
    "version": 3
   },
   "file_extension": ".py",
   "mimetype": "text/x-python",
   "name": "python",
   "nbconvert_exporter": "python",
   "pygments_lexer": "ipython3",
   "version": "3.9.12"
  }
 },
 "nbformat": 4,
 "nbformat_minor": 5
}
