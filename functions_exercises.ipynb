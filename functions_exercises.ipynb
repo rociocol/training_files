{
 "cells": [
  {
   "cell_type": "markdown",
   "id": "5eba8786",
   "metadata": {},
   "source": [
    "Excercises\n",
    "1. Crear una función que va a revisar dos números, si los dos son numeros par debe retornar el numero de menor valor, si uno o los dos son non debe retornar el numero de mayor valor.\n",
    "Hint:\n",
    "\n",
    "Cómo saber si un numero es par o non\n",
    "Como obtener el minimo y el maximo de un conjunto de numeros. valor mayor y valor menor"
   ]
  },
  {
   "cell_type": "code",
   "execution_count": null,
   "id": "20a18c6b",
   "metadata": {},
   "outputs": [],
   "source": []
  },
  {
   "cell_type": "markdown",
   "id": "e7fdfb25",
   "metadata": {},
   "source": [
    "2. Crear un funcion que revise un string de dos palabras y regrese True si las dos comienzan con la misma letra\n",
    "diego diaz - True\n",
    "\n",
    "monse arenas - False\n",
    "\n",
    "Hint:\n",
    "\n",
    "Comparision Operators\n",
    "Indexing\n",
    "ASCII"
   ]
  },
  {
   "cell_type": "code",
   "execution_count": 10,
   "id": "763da706",
   "metadata": {},
   "outputs": [],
   "source": [
    "nombre = \"Ana Haza\""
   ]
  },
  {
   "cell_type": "code",
   "execution_count": 11,
   "id": "6668ecc1",
   "metadata": {},
   "outputs": [
    {
     "data": {
      "text/plain": [
       "'A'"
      ]
     },
     "execution_count": 11,
     "metadata": {},
     "output_type": "execute_result"
    }
   ],
   "source": [
    "nombre[0]"
   ]
  },
  {
   "cell_type": "code",
   "execution_count": 12,
   "id": "d21b2f26",
   "metadata": {},
   "outputs": [
    {
     "ename": "SyntaxError",
     "evalue": "invalid syntax (3283347876.py, line 1)",
     "output_type": "error",
     "traceback": [
      "\u001b[0;36m  Input \u001b[0;32mIn [12]\u001b[0;36m\u001b[0m\n\u001b[0;31m    def revision_nombre(name1, name2)\u001b[0m\n\u001b[0m                                     ^\u001b[0m\n\u001b[0;31mSyntaxError\u001b[0m\u001b[0;31m:\u001b[0m invalid syntax\n"
     ]
    }
   ],
   "source": [
    "def revision_nombre(name)\n",
    "    if name[0]"
   ]
  },
  {
   "cell_type": "code",
   "execution_count": 17,
   "id": "efac607a",
   "metadata": {},
   "outputs": [],
   "source": [
    "def comparison(nombre):\n",
    "    dos_nombres = nombre.split()\n",
    "    #[\"Diego\", \"ugalde\"]\n",
    "    #tener cuidado con las mayusculas\n",
    "    if dos_nombres[0][0].upper() == dos_nombres[1][0].upper():\n",
    "        return True\n",
    "    else:\n",
    "        return False"
   ]
  },
  {
   "cell_type": "code",
   "execution_count": 15,
   "id": "b31f5065",
   "metadata": {},
   "outputs": [
    {
     "data": {
      "text/plain": [
       "False"
      ]
     },
     "execution_count": 15,
     "metadata": {},
     "output_type": "execute_result"
    }
   ],
   "source": [
    "comparison(\"martha sanchez\")"
   ]
  },
  {
   "cell_type": "code",
   "execution_count": 19,
   "id": "69ae65d9",
   "metadata": {},
   "outputs": [
    {
     "data": {
      "text/plain": [
       "True"
      ]
     },
     "execution_count": 19,
     "metadata": {},
     "output_type": "execute_result"
    }
   ],
   "source": [
    "comparison(\"pepe Piña\")"
   ]
  },
  {
   "cell_type": "markdown",
   "id": "b5c681ec",
   "metadata": {},
   "source": [
    "a. Comparar si dos strings diferentes terminan con la misma letra -dos variables strings- . gato, ganso, pato\n",
    "b. de una lista de palabras retornar true si las palabras inician con la misma letra- concha, cuernito, cemita "
   ]
  },
  {
   "cell_type": "code",
   "execution_count": 27,
   "id": "a17822ab",
   "metadata": {},
   "outputs": [],
   "source": [
    "items1 = \"gato\""
   ]
  },
  {
   "cell_type": "code",
   "execution_count": 38,
   "id": "0135cbad",
   "metadata": {},
   "outputs": [],
   "source": [
    "items2 = \"gansO\""
   ]
  },
  {
   "cell_type": "code",
   "execution_count": 16,
   "id": "9a018688",
   "metadata": {},
   "outputs": [
    {
     "data": {
      "text/plain": [
       "['gato', 'ganso', 'pato', 'perro']"
      ]
     },
     "execution_count": 16,
     "metadata": {},
     "output_type": "execute_result"
    }
   ],
   "source": [
    "items"
   ]
  },
  {
   "cell_type": "code",
   "execution_count": 22,
   "id": "2b9cfe2c",
   "metadata": {},
   "outputs": [
    {
     "data": {
      "text/plain": [
       "str"
      ]
     },
     "execution_count": 22,
     "metadata": {},
     "output_type": "execute_result"
    }
   ],
   "source": [
    "type(items1)"
   ]
  },
  {
   "cell_type": "code",
   "execution_count": 42,
   "id": "74af2875",
   "metadata": {},
   "outputs": [],
   "source": [
    "def revisar_letras_finales(palabras_comparada1, palabras_comparada2):\n",
    "    if palabras_comparada1[-1].lower() == palabras_comparada2[-1].lower():\n",
    "        return True\n",
    "    else:\n",
    "        return False"
   ]
  },
  {
   "cell_type": "code",
   "execution_count": 41,
   "id": "243f2fe8",
   "metadata": {},
   "outputs": [
    {
     "data": {
      "text/plain": [
       "True"
      ]
     },
     "execution_count": 41,
     "metadata": {},
     "output_type": "execute_result"
    }
   ],
   "source": [
    "revisar_letras_finales(items1, items2)"
   ]
  },
  {
   "cell_type": "code",
   "execution_count": null,
   "id": "cfbb6698",
   "metadata": {},
   "outputs": [],
   "source": []
  },
  {
   "cell_type": "markdown",
   "id": "0d2f6a04",
   "metadata": {},
   "source": [
    "3. Yoda style: Crea una funcion que reciba una frase (' yo tengo hambre') y la returne alreves como si fuera Yoda ('hambre tengo yo') NO - erbmah"
   ]
  },
  {
   "cell_type": "code",
   "execution_count": null,
   "id": "c82a89de",
   "metadata": {},
   "outputs": [],
   "source": []
  },
  {
   "cell_type": "code",
   "execution_count": 13,
   "id": "c2d3f155",
   "metadata": {},
   "outputs": [],
   "source": [
    "hunger = \"yo tengo hambre\""
   ]
  },
  {
   "cell_type": "code",
   "execution_count": 4,
   "id": "970d6926",
   "metadata": {},
   "outputs": [
    {
     "name": "stdout",
     "output_type": "stream",
     "text": [
      "erbmah ognet oy\n"
     ]
    }
   ],
   "source": [
    "frase = \"yo tengo hambre\"[::-1]\n",
    "print(frase)"
   ]
  },
  {
   "cell_type": "code",
   "execution_count": 8,
   "id": "f10a6616",
   "metadata": {},
   "outputs": [
    {
     "ename": "TypeError",
     "evalue": "descriptor 'sort' for 'list' objects doesn't apply to a 'str' object",
     "output_type": "error",
     "traceback": [
      "\u001b[0;31m---------------------------------------------------------------------------\u001b[0m",
      "\u001b[0;31mTypeError\u001b[0m                                 Traceback (most recent call last)",
      "Input \u001b[0;32mIn [8]\u001b[0m, in \u001b[0;36m<cell line: 1>\u001b[0;34m()\u001b[0m\n\u001b[0;32m----> 1\u001b[0m \u001b[38;5;28;43mlist\u001b[39;49m\u001b[38;5;241;43m.\u001b[39;49m\u001b[43msort\u001b[49m\u001b[43m(\u001b[49m\u001b[43mfrase\u001b[49m\u001b[43m)\u001b[49m\n",
      "\u001b[0;31mTypeError\u001b[0m: descriptor 'sort' for 'list' objects doesn't apply to a 'str' object"
     ]
    }
   ],
   "source": [
    "list.sort(frase)"
   ]
  },
  {
   "cell_type": "code",
   "execution_count": 8,
   "id": "24095857",
   "metadata": {},
   "outputs": [
    {
     "ename": "SyntaxError",
     "evalue": "invalid syntax (1095370086.py, line 2)",
     "output_type": "error",
     "traceback": [
      "\u001b[0;36m  Input \u001b[0;32mIn [8]\u001b[0;36m\u001b[0m\n\u001b[0;31m    if frase1 == frase2.split(frase)\u001b[0m\n\u001b[0m                                    ^\u001b[0m\n\u001b[0;31mSyntaxError\u001b[0m\u001b[0;31m:\u001b[0m invalid syntax\n"
     ]
    }
   ],
   "source": [
    "def frase_mexzclada(frase):\n",
    "    if frase1 == frase2.split(frase)\n",
    "    return frase_mezclada.sort()\n",
    "    "
   ]
  },
  {
   "cell_type": "code",
   "execution_count": 16,
   "id": "1ac69409",
   "metadata": {},
   "outputs": [],
   "source": [
    "def frase_mezclada(estoyasi):\n",
    "    hunger == estoyasi.split()\n",
    "    print(hunger)\n",
    "    print(hunger[::-1])\n",
    "    "
   ]
  },
  {
   "cell_type": "code",
   "execution_count": 15,
   "id": "6a227807",
   "metadata": {},
   "outputs": [
    {
     "name": "stdout",
     "output_type": "stream",
     "text": [
      "yo tengo hambre\n",
      "erbmah ognet oy\n"
     ]
    }
   ],
   "source": [
    "frase_mezclada(frase)"
   ]
  },
  {
   "cell_type": "code",
   "execution_count": null,
   "id": "1da90ca3",
   "metadata": {},
   "outputs": [],
   "source": []
  }
 ],
 "metadata": {
  "kernelspec": {
   "display_name": "Python 3 (ipykernel)",
   "language": "python",
   "name": "python3"
  },
  "language_info": {
   "codemirror_mode": {
    "name": "ipython",
    "version": 3
   },
   "file_extension": ".py",
   "mimetype": "text/x-python",
   "name": "python",
   "nbconvert_exporter": "python",
   "pygments_lexer": "ipython3",
   "version": "3.9.12"
  }
 },
 "nbformat": 4,
 "nbformat_minor": 5
}
