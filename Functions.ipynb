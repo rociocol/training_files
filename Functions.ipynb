{
 "cells": [
  {
   "cell_type": "markdown",
   "id": "7cadaba1",
   "metadata": {},
   "source": [
    "## Functions"
   ]
  },
  {
   "cell_type": "markdown",
   "id": "cad9918a",
   "metadata": {},
   "source": [
    "Una función empieza con def y la otra el nombre que le estamos asignando - abro y cierro paréntesis y dos puntos"
   ]
  },
  {
   "cell_type": "code",
   "execution_count": 8,
   "id": "bb22f433",
   "metadata": {},
   "outputs": [],
   "source": [
    "def greeting():\n",
    "    #here is the code\n",
    "    print(\"hello world from this function!\")"
   ]
  },
  {
   "cell_type": "code",
   "execution_count": 9,
   "id": "853b7d1a",
   "metadata": {},
   "outputs": [
    {
     "name": "stdout",
     "output_type": "stream",
     "text": [
      "hello world from this function!\n"
     ]
    }
   ],
   "source": [
    "#calling the function\n",
    "greeting()"
   ]
  },
  {
   "cell_type": "code",
   "execution_count": 8,
   "id": "3d73d5d7",
   "metadata": {},
   "outputs": [],
   "source": [
    "#function with arguments definition\n",
    "def greeting_1(name, lastname):\n",
    "    print(f\"Hello, world, I'm {name}\")\n"
   ]
  },
  {
   "cell_type": "code",
   "execution_count": 6,
   "id": "28179a9f",
   "metadata": {},
   "outputs": [
    {
     "name": "stdout",
     "output_type": "stream",
     "text": [
      "Hello, world, I'm Rocío Cerbón\n"
     ]
    }
   ],
   "source": [
    "greeting_2(\"Rocío\", \" Cerbón\")"
   ]
  },
  {
   "cell_type": "markdown",
   "id": "61c14fbd",
   "metadata": {},
   "source": [
    "#Story: Print welcome message from each ELC member"
   ]
  },
  {
   "cell_type": "code",
   "execution_count": 1,
   "id": "70cb809b",
   "metadata": {},
   "outputs": [],
   "source": [
    "elc_members_name = [\"sofía mejía\", \"rocío cerbón\", \"carlos yupanqui\", \"diego ugalde\", \"ana haza\", \"pri biswas\", \"z qiu\", \n",
    "                    \"mon arenas\", \"vicky cabral\", \"lily torres\", \"july angeles\", \"gerry reynoso\"]\n",
    "                    "
   ]
  },
  {
   "cell_type": "code",
   "execution_count": 2,
   "id": "3859d7d5",
   "metadata": {},
   "outputs": [
    {
     "name": "stdout",
     "output_type": "stream",
     "text": [
      "['sofía mejía', 'rocío cerbón', 'carlos yupanqui', 'diego ugalde', 'ana haza', 'pri biswas', 'z qiu', 'mon arenas', 'vicky cabral', 'lily torres', 'july angeles', 'gerry reynoso']\n"
     ]
    }
   ],
   "source": [
    "print(elc_members_name)"
   ]
  },
  {
   "cell_type": "code",
   "execution_count": 3,
   "id": "dce95567",
   "metadata": {},
   "outputs": [],
   "source": [
    "def greeting_2(fullname):\n",
    "    #print(fullname)\n",
    "    for name in fullname:\n",
    "        print(f\"Welcome to ML ops team, {name}\")"
   ]
  },
  {
   "cell_type": "code",
   "execution_count": 15,
   "id": "066eef26",
   "metadata": {},
   "outputs": [
    {
     "name": "stdout",
     "output_type": "stream",
     "text": [
      "Sofía mejía\n",
      "Sofía mejía\n",
      "Rocío cerbón\n",
      "Rocío cerbón\n",
      "Carlos yupanqui\n",
      "Carlos yupanqui\n",
      "Diego ugalde\n",
      "Diego ugalde\n",
      "Ana haza\n",
      "Ana haza\n",
      "Pri biswas\n",
      "Pri biswas\n",
      "Z qiu\n",
      "Z qiu\n",
      "Mon arenas\n",
      "Mon arenas\n",
      "Vicky cabral\n",
      "Vicky cabral\n",
      "Lily torres\n",
      "Lily torres\n",
      "July angeles\n",
      "July angeles\n",
      "Gerry reynoso\n",
      "Gerry reynoso\n"
     ]
    }
   ],
   "source": [
    "greeting_2(elc_members_name)"
   ]
  },
  {
   "cell_type": "code",
   "execution_count": 14,
   "id": "4bce6611",
   "metadata": {},
   "outputs": [],
   "source": [
    "def greeting_2(fullname):\n",
    "    #print(fullname)\n",
    "    for name in fullname:\n",
    "        print(name.capitalize())\n",
    "        capitalized_name = name.capitalize()\n",
    "        print(capitalized_name)\n",
    "        #print(f\"Welcome to ML ops team, {name}\")"
   ]
  },
  {
   "cell_type": "code",
   "execution_count": 1,
   "id": "1a6a816d",
   "metadata": {},
   "outputs": [],
   "source": [
    "from random import shuffle"
   ]
  },
  {
   "cell_type": "code",
   "execution_count": 2,
   "id": "d18f9d20",
   "metadata": {},
   "outputs": [],
   "source": [
    "example = [1,2,3,4,5]"
   ]
  },
  {
   "cell_type": "code",
   "execution_count": 3,
   "id": "19d4c1e1",
   "metadata": {},
   "outputs": [],
   "source": [
    "shuffle(example)"
   ]
  },
  {
   "cell_type": "code",
   "execution_count": 4,
   "id": "b0a987cb",
   "metadata": {},
   "outputs": [
    {
     "data": {
      "text/plain": [
       "[4, 2, 3, 5, 1]"
      ]
     },
     "execution_count": 4,
     "metadata": {},
     "output_type": "execute_result"
    }
   ],
   "source": [
    "example"
   ]
  },
  {
   "cell_type": "code",
   "execution_count": 5,
   "id": "73b2470c",
   "metadata": {},
   "outputs": [],
   "source": [
    "shuffle(example)"
   ]
  },
  {
   "cell_type": "code",
   "execution_count": 6,
   "id": "8c11518b",
   "metadata": {},
   "outputs": [
    {
     "data": {
      "text/plain": [
       "[2, 1, 5, 3, 4]"
      ]
     },
     "execution_count": 6,
     "metadata": {},
     "output_type": "execute_result"
    }
   ],
   "source": [
    "example"
   ]
  },
  {
   "cell_type": "code",
   "execution_count": null,
   "id": "d3619f3e",
   "metadata": {},
   "outputs": [],
   "source": [
    "def pedir_bebida(bebida):\n",
    "    while bebida != \"cafe\":\n",
    "        print(\"mejor pide bubba tea\")\n",
    "        bebida = input(\"Hola, qué bebida quieres?\")"
   ]
  },
  {
   "cell_type": "code",
   "execution_count": 1,
   "id": "f371dd85",
   "metadata": {},
   "outputs": [],
   "source": [
    "lista_bebidas = \"cafe\", \"te\", \"bubba\", \"frappe\""
   ]
  },
  {
   "cell_type": "code",
   "execution_count": 2,
   "id": "ec149bb2",
   "metadata": {},
   "outputs": [
    {
     "ename": "NameError",
     "evalue": "name 'pedir_bebida' is not defined",
     "output_type": "error",
     "traceback": [
      "\u001b[0;31m---------------------------------------------------------------------------\u001b[0m",
      "\u001b[0;31mNameError\u001b[0m                                 Traceback (most recent call last)",
      "Input \u001b[0;32mIn [2]\u001b[0m, in \u001b[0;36m<cell line: 1>\u001b[0;34m()\u001b[0m\n\u001b[0;32m----> 1\u001b[0m \u001b[43mpedir_bebida\u001b[49m(bebida)\n",
      "\u001b[0;31mNameError\u001b[0m: name 'pedir_bebida' is not defined"
     ]
    }
   ],
   "source": [
    "pedir_bebida(bebida)"
   ]
  },
  {
   "cell_type": "code",
   "execution_count": null,
   "id": "24a5e9d7",
   "metadata": {},
   "outputs": [],
   "source": []
  }
 ],
 "metadata": {
  "kernelspec": {
   "display_name": "Python 3 (ipykernel)",
   "language": "python",
   "name": "python3"
  },
  "language_info": {
   "codemirror_mode": {
    "name": "ipython",
    "version": 3
   },
   "file_extension": ".py",
   "mimetype": "text/x-python",
   "name": "python",
   "nbconvert_exporter": "python",
   "pygments_lexer": "ipython3",
   "version": "3.9.12"
  }
 },
 "nbformat": 4,
 "nbformat_minor": 5
}
