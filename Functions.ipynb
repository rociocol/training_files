{
 "cells": [
  {
   "cell_type": "markdown",
   "id": "7cadaba1",
   "metadata": {},
   "source": [
    "## Functions"
   ]
  },
  {
   "cell_type": "markdown",
   "id": "cad9918a",
   "metadata": {},
   "source": [
    "Una función empieza con def y la otra el nombre que le estamos asignando - abro y cierro paréntesis y dos puntos"
   ]
  },
  {
   "cell_type": "code",
   "execution_count": 8,
   "id": "bb22f433",
   "metadata": {},
   "outputs": [],
   "source": [
    "def greeting():\n",
    "    #here is the code\n",
    "    print(\"hello world from this function!\")"
   ]
  },
  {
   "cell_type": "code",
   "execution_count": 9,
   "id": "853b7d1a",
   "metadata": {},
   "outputs": [
    {
     "name": "stdout",
     "output_type": "stream",
     "text": [
      "hello world from this function!\n"
     ]
    }
   ],
   "source": [
    "#calling the function\n",
    "greeting()"
   ]
  },
  {
   "cell_type": "code",
   "execution_count": 13,
   "id": "3d73d5d7",
   "metadata": {},
   "outputs": [],
   "source": [
    "#function with arguments definition\n",
    "def greeting_2(name, lastname):\n",
    "    print(f\"Hello, world, I'm {name}{lastname}\")\n"
   ]
  },
  {
   "cell_type": "code",
   "execution_count": 15,
   "id": "28179a9f",
   "metadata": {},
   "outputs": [
    {
     "name": "stdout",
     "output_type": "stream",
     "text": [
      "Hello, world, I'm Rocío Cerbón\n"
     ]
    }
   ],
   "source": [
    "greeting_2(\"Rocío\", \" Cerbón\")"
   ]
  },
  {
   "cell_type": "code",
   "execution_count": null,
   "id": "756530ff",
   "metadata": {},
   "outputs": [],
   "source": []
  }
 ],
 "metadata": {
  "kernelspec": {
   "display_name": "Python 3 (ipykernel)",
   "language": "python",
   "name": "python3"
  },
  "language_info": {
   "codemirror_mode": {
    "name": "ipython",
    "version": 3
   },
   "file_extension": ".py",
   "mimetype": "text/x-python",
   "name": "python",
   "nbconvert_exporter": "python",
   "pygments_lexer": "ipython3",
   "version": "3.9.12"
  }
 },
 "nbformat": 4,
 "nbformat_minor": 5
}
