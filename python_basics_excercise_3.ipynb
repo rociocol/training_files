{
 "cells": [
  {
   "cell_type": "markdown",
   "id": "a37dd6f8",
   "metadata": {},
   "source": [
    "## Exercises: List and Dictionaries\n"
   ]
  },
  {
   "cell_type": "markdown",
   "id": "0819f22d",
   "metadata": {},
   "source": [
    "1. Create a Python list of strings"
   ]
  },
  {
   "cell_type": "code",
   "execution_count": 1,
   "id": "7e14ad3e",
   "metadata": {},
   "outputs": [],
   "source": [
    "list1 = [\"tea\", \"coffee\", \"matcha\", \"taro\"]"
   ]
  },
  {
   "cell_type": "code",
   "execution_count": 2,
   "id": "ebff97cf",
   "metadata": {},
   "outputs": [
    {
     "data": {
      "text/plain": [
       "['tea', 'coffee', 'matcha', 'taro']"
      ]
     },
     "execution_count": 2,
     "metadata": {},
     "output_type": "execute_result"
    }
   ],
   "source": [
    "list1"
   ]
  },
  {
   "cell_type": "markdown",
   "id": "21659f72",
   "metadata": {},
   "source": [
    "2. Create a Python list of numbers"
   ]
  },
  {
   "cell_type": "code",
   "execution_count": 3,
   "id": "a7f5592e",
   "metadata": {},
   "outputs": [],
   "source": [
    "list2 = [1,3,5,7,9]"
   ]
  },
  {
   "cell_type": "code",
   "execution_count": 4,
   "id": "489b9c92",
   "metadata": {},
   "outputs": [
    {
     "data": {
      "text/plain": [
       "[1, 3, 5, 7, 9]"
      ]
     },
     "execution_count": 4,
     "metadata": {},
     "output_type": "execute_result"
    }
   ],
   "source": [
    "list2"
   ]
  },
  {
   "cell_type": "markdown",
   "id": "3627b330",
   "metadata": {},
   "source": [
    "3. Create a Python list with duplicate values\n"
   ]
  },
  {
   "cell_type": "code",
   "execution_count": 5,
   "id": "61c3d5ab",
   "metadata": {},
   "outputs": [],
   "source": [
    "list3 = [list1] *2"
   ]
  },
  {
   "cell_type": "code",
   "execution_count": 6,
   "id": "56461910",
   "metadata": {},
   "outputs": [
    {
     "data": {
      "text/plain": [
       "[['tea', 'coffee', 'matcha', 'taro'], ['tea', 'coffee', 'matcha', 'taro']]"
      ]
     },
     "execution_count": 6,
     "metadata": {},
     "output_type": "execute_result"
    }
   ],
   "source": [
    "list3"
   ]
  },
  {
   "cell_type": "markdown",
   "id": "73e22428",
   "metadata": {},
   "source": [
    "4. Create a Python list that contains different data type values\n"
   ]
  },
  {
   "cell_type": "code",
   "execution_count": 12,
   "id": "257eed6d",
   "metadata": {},
   "outputs": [],
   "source": [
    "list4 = [1, 2, cat, \"dog\", flower, \"bee\"]"
   ]
  },
  {
   "cell_type": "code",
   "execution_count": 9,
   "id": "229f69c8",
   "metadata": {},
   "outputs": [],
   "source": [
    "flower = \"daisy\""
   ]
  },
  {
   "cell_type": "code",
   "execution_count": 10,
   "id": "5e5e428f",
   "metadata": {},
   "outputs": [],
   "source": [
    "cat = \"oreo\""
   ]
  },
  {
   "cell_type": "code",
   "execution_count": 13,
   "id": "94d79048",
   "metadata": {},
   "outputs": [
    {
     "data": {
      "text/plain": [
       "[1, 2, 'oreo', 'dog', 'daisy', 'bee']"
      ]
     },
     "execution_count": 13,
     "metadata": {},
     "output_type": "execute_result"
    }
   ],
   "source": [
    "list4 "
   ]
  },
  {
   "cell_type": "code",
   "execution_count": 14,
   "id": "bf1fe501",
   "metadata": {},
   "outputs": [],
   "source": [
    "list4.append(list1)"
   ]
  },
  {
   "cell_type": "code",
   "execution_count": 15,
   "id": "b0b4dfef",
   "metadata": {},
   "outputs": [
    {
     "data": {
      "text/plain": [
       "[1, 2, 'oreo', 'dog', 'daisy', 'bee', ['tea', 'coffee', 'matcha', 'taro']]"
      ]
     },
     "execution_count": 15,
     "metadata": {},
     "output_type": "execute_result"
    }
   ],
   "source": [
    "list4"
   ]
  },
  {
   "cell_type": "markdown",
   "id": "522ef68d",
   "metadata": {},
   "source": [
    "5. Create a Python list and find the length of a list in Python\n"
   ]
  },
  {
   "cell_type": "code",
   "execution_count": 8,
   "id": "671c9a3d",
   "metadata": {},
   "outputs": [
    {
     "data": {
      "text/plain": [
       "2"
      ]
     },
     "execution_count": 8,
     "metadata": {},
     "output_type": "execute_result"
    }
   ],
   "source": [
    "len(list3)"
   ]
  },
  {
   "cell_type": "markdown",
   "id": "3f3762a7",
   "metadata": {},
   "source": [
    "6. Finding the index of items in a Python list\n"
   ]
  },
  {
   "cell_type": "code",
   "execution_count": 17,
   "id": "c5c5a5c7",
   "metadata": {},
   "outputs": [],
   "source": [
    "fruits = [\"apple\",\"banana\",\"mango\"]"
   ]
  },
  {
   "cell_type": "code",
   "execution_count": 13,
   "id": "b05f00b1",
   "metadata": {},
   "outputs": [],
   "source": [
    "# How can you know the index of an item in a list?"
   ]
  },
  {
   "cell_type": "code",
   "execution_count": 18,
   "id": "90fd7601",
   "metadata": {},
   "outputs": [
    {
     "data": {
      "text/plain": [
       "'banana'"
      ]
     },
     "execution_count": 18,
     "metadata": {},
     "output_type": "execute_result"
    }
   ],
   "source": [
    "fruits[-2]"
   ]
  },
  {
   "cell_type": "code",
   "execution_count": 23,
   "id": "6800ad76",
   "metadata": {},
   "outputs": [
    {
     "data": {
      "text/plain": [
       "2"
      ]
     },
     "execution_count": 23,
     "metadata": {},
     "output_type": "execute_result"
    }
   ],
   "source": [
    "fruits.index(\"mango\")"
   ]
  },
  {
   "cell_type": "code",
   "execution_count": 14,
   "id": "8faaffeb",
   "metadata": {},
   "outputs": [],
   "source": [
    "# Create a variable with the index value of \"banana\" and \"apple\"\n",
    "\n",
    "# Use method print and print the variable values you just created"
   ]
  },
  {
   "cell_type": "code",
   "execution_count": 2,
   "id": "2a8d9515",
   "metadata": {},
   "outputs": [],
   "source": [
    "cool_fruits = []"
   ]
  },
  {
   "cell_type": "code",
   "execution_count": 3,
   "id": "c92bb30a",
   "metadata": {},
   "outputs": [
    {
     "ename": "NameError",
     "evalue": "name 'fruits' is not defined",
     "output_type": "error",
     "traceback": [
      "\u001b[0;31m---------------------------------------------------------------------------\u001b[0m",
      "\u001b[0;31mNameError\u001b[0m                                 Traceback (most recent call last)",
      "Input \u001b[0;32mIn [3]\u001b[0m, in \u001b[0;36m<cell line: 1>\u001b[0;34m()\u001b[0m\n\u001b[0;32m----> 1\u001b[0m cool_fruits\u001b[38;5;241m.\u001b[39mappend(\u001b[43mfruits\u001b[49m\u001b[38;5;241m.\u001b[39mindex(\u001b[38;5;124m\"\u001b[39m\u001b[38;5;124mbanana\u001b[39m\u001b[38;5;124m\"\u001b[39m))\n",
      "\u001b[0;31mNameError\u001b[0m: name 'fruits' is not defined"
     ]
    }
   ],
   "source": [
    "cool_fruits.append(fruits.index(\"banana\"))"
   ]
  },
  {
   "cell_type": "code",
   "execution_count": 4,
   "id": "9a488fc7",
   "metadata": {},
   "outputs": [
    {
     "data": {
      "text/plain": [
       "[]"
      ]
     },
     "execution_count": 4,
     "metadata": {},
     "output_type": "execute_result"
    }
   ],
   "source": [
    "cool_fruits"
   ]
  },
  {
   "cell_type": "code",
   "execution_count": 5,
   "id": "79d19e9c",
   "metadata": {},
   "outputs": [
    {
     "ename": "NameError",
     "evalue": "name 'fruits' is not defined",
     "output_type": "error",
     "traceback": [
      "\u001b[0;31m---------------------------------------------------------------------------\u001b[0m",
      "\u001b[0;31mNameError\u001b[0m                                 Traceback (most recent call last)",
      "Input \u001b[0;32mIn [5]\u001b[0m, in \u001b[0;36m<cell line: 1>\u001b[0;34m()\u001b[0m\n\u001b[0;32m----> 1\u001b[0m cool_fruits\u001b[38;5;241m.\u001b[39mappend(\u001b[43mfruits\u001b[49m\u001b[38;5;241m.\u001b[39mindex(\u001b[38;5;124m\"\u001b[39m\u001b[38;5;124mapple\u001b[39m\u001b[38;5;124m\"\u001b[39m))\n",
      "\u001b[0;31mNameError\u001b[0m: name 'fruits' is not defined"
     ]
    }
   ],
   "source": [
    "cool_fruits.append(fruits.index(\"apple\"))"
   ]
  },
  {
   "cell_type": "code",
   "execution_count": 1,
   "id": "253feb2f",
   "metadata": {},
   "outputs": [
    {
     "ename": "NameError",
     "evalue": "name 'cool_fruits' is not defined",
     "output_type": "error",
     "traceback": [
      "\u001b[0;31m---------------------------------------------------------------------------\u001b[0m",
      "\u001b[0;31mNameError\u001b[0m                                 Traceback (most recent call last)",
      "Input \u001b[0;32mIn [1]\u001b[0m, in \u001b[0;36m<cell line: 1>\u001b[0;34m()\u001b[0m\n\u001b[0;32m----> 1\u001b[0m \u001b[43mcool_fruits\u001b[49m\n",
      "\u001b[0;31mNameError\u001b[0m: name 'cool_fruits' is not defined"
     ]
    }
   ],
   "source": [
    "cool_fruits"
   ]
  },
  {
   "cell_type": "code",
   "execution_count": 30,
   "id": "7ee51a30",
   "metadata": {},
   "outputs": [],
   "source": [
    "pythonList = [\"p\",\"y\",\"t\",\"h\",\"o\",\"n\"]"
   ]
  },
  {
   "cell_type": "code",
   "execution_count": 6,
   "id": "aeb59ad9",
   "metadata": {},
   "outputs": [],
   "source": [
    "# to get the 1st item"
   ]
  },
  {
   "cell_type": "code",
   "execution_count": 31,
   "id": "47d8ce97",
   "metadata": {},
   "outputs": [
    {
     "data": {
      "text/plain": [
       "'p'"
      ]
     },
     "execution_count": 31,
     "metadata": {},
     "output_type": "execute_result"
    }
   ],
   "source": [
    "pythonList[0]"
   ]
  },
  {
   "cell_type": "code",
   "execution_count": 7,
   "id": "88db0e62",
   "metadata": {},
   "outputs": [],
   "source": [
    "#to get the 4th item"
   ]
  },
  {
   "cell_type": "code",
   "execution_count": 32,
   "id": "79516594",
   "metadata": {},
   "outputs": [
    {
     "data": {
      "text/plain": [
       "'h'"
      ]
     },
     "execution_count": 32,
     "metadata": {},
     "output_type": "execute_result"
    }
   ],
   "source": [
    "pythonList[3]"
   ]
  },
  {
   "cell_type": "code",
   "execution_count": 8,
   "id": "712c533a",
   "metadata": {},
   "outputs": [],
   "source": [
    "# Negative indexing to get last item"
   ]
  },
  {
   "cell_type": "code",
   "execution_count": 33,
   "id": "4fa9e2bb",
   "metadata": {},
   "outputs": [
    {
     "data": {
      "text/plain": [
       "'n'"
      ]
     },
     "execution_count": 33,
     "metadata": {},
     "output_type": "execute_result"
    }
   ],
   "source": [
    "pythonList[-1]"
   ]
  },
  {
   "cell_type": "code",
   "execution_count": 9,
   "id": "0bcc4068",
   "metadata": {},
   "outputs": [],
   "source": [
    "# To get second last item"
   ]
  },
  {
   "cell_type": "code",
   "execution_count": 34,
   "id": "4e292591",
   "metadata": {},
   "outputs": [
    {
     "data": {
      "text/plain": [
       "'o'"
      ]
     },
     "execution_count": 34,
     "metadata": {},
     "output_type": "execute_result"
    }
   ],
   "source": [
    "pythonList[-2]"
   ]
  },
  {
   "cell_type": "markdown",
   "id": "1a4dd22e",
   "metadata": {},
   "source": [
    "## Slicing"
   ]
  },
  {
   "cell_type": "code",
   "execution_count": 7,
   "id": "7e190f4f",
   "metadata": {},
   "outputs": [],
   "source": [
    "myList = ['p','y','t','h','o','n','i','s','t','a']"
   ]
  },
  {
   "cell_type": "code",
   "execution_count": 16,
   "id": "31e14777",
   "metadata": {},
   "outputs": [],
   "source": [
    "# elements from 5 to 8"
   ]
  },
  {
   "cell_type": "code",
   "execution_count": 8,
   "id": "edeb6b5a",
   "metadata": {},
   "outputs": [
    {
     "data": {
      "text/plain": [
       "['o', 'n', 'i']"
      ]
     },
     "execution_count": 8,
     "metadata": {},
     "output_type": "execute_result"
    }
   ],
   "source": [
    "myList[4:7]"
   ]
  },
  {
   "cell_type": "code",
   "execution_count": null,
   "id": "c94d2ebc",
   "metadata": {},
   "outputs": [],
   "source": [
    "# from 1st element to 4th element"
   ]
  },
  {
   "cell_type": "code",
   "execution_count": 9,
   "id": "2c8baf8a",
   "metadata": {},
   "outputs": [
    {
     "data": {
      "text/plain": [
       "['p', 'y', 't']"
      ]
     },
     "execution_count": 9,
     "metadata": {},
     "output_type": "execute_result"
    }
   ],
   "source": [
    "myList[0:3]"
   ]
  },
  {
   "cell_type": "code",
   "execution_count": null,
   "id": "65113ff5",
   "metadata": {},
   "outputs": [],
   "source": [
    "# from 8th element to last element"
   ]
  },
  {
   "cell_type": "code",
   "execution_count": 10,
   "id": "e9391074",
   "metadata": {},
   "outputs": [
    {
     "data": {
      "text/plain": [
       "['s', 't', 'a']"
      ]
     },
     "execution_count": 10,
     "metadata": {},
     "output_type": "execute_result"
    }
   ],
   "source": [
    "myList[7:]"
   ]
  },
  {
   "cell_type": "code",
   "execution_count": 17,
   "id": "27d35226",
   "metadata": {},
   "outputs": [],
   "source": [
    "# from 1st to last elements"
   ]
  },
  {
   "cell_type": "code",
   "execution_count": 11,
   "id": "c7b48478",
   "metadata": {},
   "outputs": [
    {
     "data": {
      "text/plain": [
       "['p', 'y', 't', 'h', 'o', 'n', 'i', 's', 't', 'a']"
      ]
     },
     "execution_count": 11,
     "metadata": {},
     "output_type": "execute_result"
    }
   ],
   "source": [
    "myList[0:]"
   ]
  },
  {
   "cell_type": "code",
   "execution_count": 19,
   "id": "4e57a9f2",
   "metadata": {},
   "outputs": [],
   "source": [
    "# write one example of negative slicing"
   ]
  },
  {
   "cell_type": "code",
   "execution_count": 12,
   "id": "4d7913d0",
   "metadata": {},
   "outputs": [
    {
     "data": {
      "text/plain": [
       "['i', 's', 't', 'a']"
      ]
     },
     "execution_count": 12,
     "metadata": {},
     "output_type": "execute_result"
    }
   ],
   "source": [
    "myList[-4:]"
   ]
  },
  {
   "cell_type": "markdown",
   "id": "499340c5",
   "metadata": {},
   "source": [
    "### Exercise 1\n",
    "\n",
    "Given the following dictionary:"
   ]
  },
  {
   "cell_type": "code",
   "execution_count": 10,
   "id": "76d4a7f7",
   "metadata": {},
   "outputs": [],
   "source": [
    "inventory = {\n",
    "    'gold' : 500,\n",
    "    'pouch' : ['flint', 'twine', 'gemstone'],\n",
    "    'backpack' : ['xylophone','dagger', 'bedroll','bread loaf']\n",
    "}"
   ]
  },
  {
   "cell_type": "code",
   "execution_count": 11,
   "id": "7945ae3b",
   "metadata": {},
   "outputs": [],
   "source": [
    "inventory[\"pocket\"] = [\"sheashell\", \"strange berry\", \"lint\"]"
   ]
  },
  {
   "cell_type": "markdown",
   "id": "baa60a6a",
   "metadata": {},
   "source": [
    "Try to do the followings:\n",
    "\n",
    "- Add a key to inventory called 'pocket'.\n",
    "- Set the value of 'pocket' to be a list consisting of the strings 'seashell', 'strange berry', and 'lint'.\n",
    "- .sort()the items in the list stored under the 'backpack' key.\n",
    "- Then .remove('dagger') from the list of items stored under the 'backpack' key.\n",
    "- Add 50 to the number stored under the 'gold' key."
   ]
  },
  {
   "cell_type": "code",
   "execution_count": 4,
   "id": "c502efe1",
   "metadata": {},
   "outputs": [
    {
     "data": {
      "text/plain": [
       "{'gold': 500,\n",
       " 'pouch': ['flint', 'twine', 'gemstone'],\n",
       " 'backpack': ['xylophone', 'dagger', 'bedroll', 'bread loaf'],\n",
       " 'pocket': ['sheashell', 'strange berry', 'lint']}"
      ]
     },
     "execution_count": 4,
     "metadata": {},
     "output_type": "execute_result"
    }
   ],
   "source": [
    "inventory"
   ]
  },
  {
   "cell_type": "code",
   "execution_count": 9,
   "id": "b84c6df7",
   "metadata": {},
   "outputs": [
    {
     "data": {
      "text/plain": [
       "['xylophone', 'dagger', 'bedroll', 'bread loaf']"
      ]
     },
     "execution_count": 9,
     "metadata": {},
     "output_type": "execute_result"
    }
   ],
   "source": [
    "inventory[\"backpack\"]"
   ]
  },
  {
   "cell_type": "code",
   "execution_count": 7,
   "id": "dcc6a4f3",
   "metadata": {},
   "outputs": [
    {
     "data": {
      "text/plain": [
       "list"
      ]
     },
     "execution_count": 7,
     "metadata": {},
     "output_type": "execute_result"
    }
   ],
   "source": [
    "type(inventory[\"backpack\"])"
   ]
  },
  {
   "cell_type": "code",
   "execution_count": 14,
   "id": "0271f0c1",
   "metadata": {},
   "outputs": [],
   "source": [
    "inventory[\"backpack\"].remove(\"dagger\")"
   ]
  },
  {
   "cell_type": "code",
   "execution_count": 15,
   "id": "e165e156",
   "metadata": {},
   "outputs": [
    {
     "data": {
      "text/plain": [
       "['xylophone', 'bedroll', 'bread loaf']"
      ]
     },
     "execution_count": 15,
     "metadata": {},
     "output_type": "execute_result"
    }
   ],
   "source": [
    "inventory[\"backpack\"]"
   ]
  },
  {
   "cell_type": "code",
   "execution_count": 16,
   "id": "103e8976",
   "metadata": {},
   "outputs": [],
   "source": [
    "inventory[\"pouch\"].sort()"
   ]
  },
  {
   "cell_type": "code",
   "execution_count": 17,
   "id": "c7d7a1f9",
   "metadata": {},
   "outputs": [
    {
     "data": {
      "text/plain": [
       "['flint', 'gemstone', 'twine']"
      ]
     },
     "execution_count": 17,
     "metadata": {},
     "output_type": "execute_result"
    }
   ],
   "source": [
    "inventory[\"pouch\"]"
   ]
  },
  {
   "cell_type": "code",
   "execution_count": 18,
   "id": "ede74f8d",
   "metadata": {},
   "outputs": [],
   "source": [
    "inventory[\"pouch\"].reverse()"
   ]
  },
  {
   "cell_type": "code",
   "execution_count": 19,
   "id": "6d38fa17",
   "metadata": {},
   "outputs": [
    {
     "data": {
      "text/plain": [
       "['twine', 'gemstone', 'flint']"
      ]
     },
     "execution_count": 19,
     "metadata": {},
     "output_type": "execute_result"
    }
   ],
   "source": [
    "inventory[\"pouch\"]"
   ]
  },
  {
   "cell_type": "code",
   "execution_count": 20,
   "id": "232ba7bf",
   "metadata": {},
   "outputs": [
    {
     "data": {
      "text/plain": [
       "500"
      ]
     },
     "execution_count": 20,
     "metadata": {},
     "output_type": "execute_result"
    }
   ],
   "source": [
    "inventory[\"gold\"]"
   ]
  },
  {
   "cell_type": "code",
   "execution_count": 21,
   "id": "b02deafd",
   "metadata": {},
   "outputs": [
    {
     "data": {
      "text/plain": [
       "int"
      ]
     },
     "execution_count": 21,
     "metadata": {},
     "output_type": "execute_result"
    }
   ],
   "source": [
    "type(inventory[\"gold\"])"
   ]
  },
  {
   "cell_type": "code",
   "execution_count": 22,
   "id": "83feda70",
   "metadata": {},
   "outputs": [
    {
     "data": {
      "text/plain": [
       "550"
      ]
     },
     "execution_count": 22,
     "metadata": {},
     "output_type": "execute_result"
    }
   ],
   "source": [
    "inventory[\"gold\"]+50"
   ]
  },
  {
   "cell_type": "code",
   "execution_count": 23,
   "id": "a3ce4f38",
   "metadata": {},
   "outputs": [
    {
     "data": {
      "text/plain": [
       "['twine', 'gemstone', 'flint', 'experiment']"
      ]
     },
     "execution_count": 23,
     "metadata": {},
     "output_type": "execute_result"
    }
   ],
   "source": [
    "inventory[\"pouch\"]+[\"experiment\"]"
   ]
  },
  {
   "cell_type": "code",
   "execution_count": 24,
   "id": "6e98b9e2",
   "metadata": {},
   "outputs": [],
   "source": [
    "new_gold = inventory[\"gold\"]+50"
   ]
  },
  {
   "cell_type": "code",
   "execution_count": 25,
   "id": "048e3855",
   "metadata": {},
   "outputs": [
    {
     "data": {
      "text/plain": [
       "550"
      ]
     },
     "execution_count": 25,
     "metadata": {},
     "output_type": "execute_result"
    }
   ],
   "source": [
    "new_gold"
   ]
  },
  {
   "cell_type": "code",
   "execution_count": 26,
   "id": "e56b7f21",
   "metadata": {},
   "outputs": [],
   "source": [
    "inventory[\"gold\"] = new_gold"
   ]
  },
  {
   "cell_type": "code",
   "execution_count": 27,
   "id": "dd3ffb96",
   "metadata": {},
   "outputs": [
    {
     "data": {
      "text/plain": [
       "{'gold': 550,\n",
       " 'pouch': ['twine', 'gemstone', 'flint'],\n",
       " 'backpack': ['xylophone', 'bedroll', 'bread loaf'],\n",
       " 'pocket': ['sheashell', 'strange berry', 'lint']}"
      ]
     },
     "execution_count": 27,
     "metadata": {},
     "output_type": "execute_result"
    }
   ],
   "source": [
    "inventory"
   ]
  },
  {
   "cell_type": "code",
   "execution_count": null,
   "id": "baea2176",
   "metadata": {},
   "outputs": [],
   "source": []
  }
 ],
 "metadata": {
  "kernelspec": {
   "display_name": "Python 3 (ipykernel)",
   "language": "python",
   "name": "python3"
  },
  "language_info": {
   "codemirror_mode": {
    "name": "ipython",
    "version": 3
   },
   "file_extension": ".py",
   "mimetype": "text/x-python",
   "name": "python",
   "nbconvert_exporter": "python",
   "pygments_lexer": "ipython3",
   "version": "3.9.12"
  }
 },
 "nbformat": 4,
 "nbformat_minor": 5
}
