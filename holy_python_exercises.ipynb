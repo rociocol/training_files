{
 "cells": [
  {
   "cell_type": "code",
   "execution_count": 1,
   "id": "3d72b549",
   "metadata": {},
   "outputs": [
    {
     "name": "stdout",
     "output_type": "stream",
     "text": [
      "hola mundo!\n"
     ]
    }
   ],
   "source": [
    "# Replace \"type here\" on line 2 with \"Hello World!\"\n",
    "print(\"hola mundo!\")"
   ]
  },
  {
   "cell_type": "code",
   "execution_count": 2,
   "id": "0ddf5653",
   "metadata": {},
   "outputs": [
    {
     "name": "stdout",
     "output_type": "stream",
     "text": [
      "Hello World!\n"
     ]
    }
   ],
   "source": [
    "# You can assign \"Hello World!\" to the variable below on line 3.\n",
    "\n",
    "my_text=\"Hello World!\"\n",
    "print(my_text)"
   ]
  },
  {
   "cell_type": "code",
   "execution_count": 3,
   "id": "de4aef82",
   "metadata": {},
   "outputs": [
    {
     "name": "stdout",
     "output_type": "stream",
     "text": [
      "Oreo Guerito Tito Gato Lupito Coco Riu Dean Samy Mina\n"
     ]
    }
   ],
   "source": [
    "# Type a couple of different values on line 9 inside the print function. Make sure they are separated by commas.    \n",
    "    \n",
    "print(\"Oreo\", \"Guerito\", \"Tito\", \"Gato\", \"Lupito\", \"Coco\", \"Riu\", \"Dean\", \"Samy\", \"Mina\")\n",
    "\n",
    "\n"
   ]
  },
  {
   "cell_type": "code",
   "execution_count": 1,
   "id": "5dfb14ec",
   "metadata": {},
   "outputs": [
    {
     "name": "stdout",
     "output_type": "stream",
     "text": [
      "I drank 3 glasses of water today.\n"
     ]
    }
   ],
   "source": [
    "\n",
    "#Type here. Assign a number to the variable: glass_of_water\n",
    "\n",
    "glass_of_water= 3\n",
    "\n",
    "print(\"I drank\", glass_of_water, \"glasses of water today.\")\n",
    "\n"
   ]
  },
  {
   "cell_type": "code",
   "execution_count": 2,
   "id": "c0974564",
   "metadata": {},
   "outputs": [
    {
     "name": "stdout",
     "output_type": "stream",
     "text": [
      "4\n"
     ]
    }
   ],
   "source": [
    "#Fill the print function so it prints glass_of_water\n",
    "\n",
    "glass_of_water=3\n",
    "\n",
    "glass_of_water=glass_of_water + 1\n",
    "\n",
    "\n",
    "print(glass_of_water)\n",
    "\n"
   ]
  },
  {
   "cell_type": "code",
   "execution_count": 3,
   "id": "cdad7b6b",
   "metadata": {},
   "outputs": [
    {
     "name": "stdout",
     "output_type": "stream",
     "text": [
      "12\n"
     ]
    }
   ],
   "source": [
    "#Assign an integer to the variable, then print it.\n",
    "\n",
    "men_stepped_on_the_moon= 12\n",
    "print(men_stepped_on_the_moon)\n"
   ]
  },
  {
   "cell_type": "code",
   "execution_count": 4,
   "id": "ea3858f6",
   "metadata": {},
   "outputs": [
    {
     "name": "stdout",
     "output_type": "stream",
     "text": [
      "el dinero\n"
     ]
    }
   ],
   "source": [
    "#Type a couple of words or a short sentence for your variable, then print it.\n",
    "\n",
    "my_reason_for_coding= \"el dinero\"\n",
    "print(my_reason_for_coding)"
   ]
  },
  {
   "cell_type": "code",
   "execution_count": 5,
   "id": "2613031a",
   "metadata": {},
   "outputs": [
    {
     "name": "stdout",
     "output_type": "stream",
     "text": [
      "21.36\n"
     ]
    }
   ],
   "source": [
    "#Assign a float with 2 decimals to the variable below. \n",
    "#If you don't wan't to search the value you can check out Hint 1.\n",
    "\n",
    "global_mean_sea_level_2018=21\n",
    "\n",
    "#Type your code here.\n",
    "global_mean_sea_level_2018= 21.36\n",
    "\n",
    "\n",
    "print(global_mean_sea_level_2018)\n",
    "\n"
   ]
  },
  {
   "cell_type": "code",
   "execution_count": 6,
   "id": "a22efc30",
   "metadata": {},
   "outputs": [
    {
     "name": "stdout",
     "output_type": "stream",
     "text": [
      "<class 'int'>\n"
     ]
    }
   ],
   "source": [
    "men_stepped_on_the_moon=12\n",
    "\n",
    "#Type your code here.\n",
    "\n",
    "answer_1= type(men_stepped_on_the_moon)\n",
    "\n",
    "\n",
    "print(answer_1)\n"
   ]
  },
  {
   "cell_type": "code",
   "execution_count": 7,
   "id": "1b2f6f67",
   "metadata": {},
   "outputs": [
    {
     "name": "stdout",
     "output_type": "stream",
     "text": [
      "<class 'str'>\n"
     ]
    }
   ],
   "source": [
    "my_reason_for_coding=\"intergalactic travel\"\n",
    "\n",
    "#Type your code here.\n",
    "\n",
    "answer_2= type(my_reason_for_coding)\n",
    "\n",
    "\n",
    "print (answer_2)"
   ]
  },
  {
   "cell_type": "code",
   "execution_count": 8,
   "id": "e2998ffc",
   "metadata": {},
   "outputs": [
    {
     "name": "stdout",
     "output_type": "stream",
     "text": [
      "<class 'float'>\n"
     ]
    }
   ],
   "source": [
    "global_mean_sea_level_delta_2018=21.36\n",
    "\n",
    "#Type your code here.\n",
    "\n",
    "answer_3= type(global_mean_sea_level_delta_2018)\n",
    "\n",
    "\n",
    "print(answer_3)\n"
   ]
  },
  {
   "cell_type": "code",
   "execution_count": 9,
   "id": "6f31fd1f",
   "metadata": {},
   "outputs": [
    {
     "name": "stdout",
     "output_type": "stream",
     "text": [
      "<class 'bool'>\n"
     ]
    }
   ],
   "source": [
    "staying_alive=True\n",
    "\n",
    "#Type your code here.\n",
    "\n",
    "\n",
    "answer_4= type(staying_alive)\n",
    "\n",
    "\n",
    "print(answer_4)\n"
   ]
  },
  {
   "cell_type": "code",
   "execution_count": 11,
   "id": "fa2ea6fd",
   "metadata": {},
   "outputs": [
    {
     "name": "stdout",
     "output_type": "stream",
     "text": [
      "<class 'bool'>\n"
     ]
    }
   ],
   "source": [
    "staying_alive=True\n",
    "\n",
    "#Type your code here.\n",
    "\n",
    "\n",
    "answer_4= type(staying_alive)\n",
    "\n",
    "\n",
    "print(answer_4)\n"
   ]
  },
  {
   "cell_type": "code",
   "execution_count": 12,
   "id": "e6d13487",
   "metadata": {},
   "outputs": [
    {
     "name": "stdout",
     "output_type": "stream",
     "text": [
      "10\n",
      "<class 'str'>\n",
      "<class 'int'>\n"
     ]
    }
   ],
   "source": [
    "#my_grade variable is a string (because it's in quotes). \n",
    "#On line 9, convert it to an integer.\n",
    "\n",
    "my_grade=\"10\"\n",
    "\n",
    "answer_5= int(my_grade)\n",
    "\n",
    "\n",
    "print(\"10\")\n",
    "\n",
    "print (type(my_grade))\n",
    "\n",
    "print(type(answer_5))"
   ]
  },
  {
   "cell_type": "code",
   "execution_count": 1,
   "id": "83c5ab40",
   "metadata": {},
   "outputs": [
    {
     "name": "stdout",
     "output_type": "stream",
     "text": [
      "<class 'list'>\n"
     ]
    }
   ],
   "source": [
    "#Create an empty list on line 3 and assign its type on line 4\n",
    "\n",
    "gift_list= list()\n",
    "\n",
    "answer_1= type(gift_list)\n",
    "\n",
    "\n",
    "print(answer_1)\n",
    "\n"
   ]
  },
  {
   "cell_type": "code",
   "execution_count": 2,
   "id": "9a7607f9",
   "metadata": {},
   "outputs": [
    {
     "name": "stdout",
     "output_type": "stream",
     "text": [
      "<class 'dict'>\n"
     ]
    }
   ],
   "source": [
    "#Create an empty dictionary on line 3 and assign its type on line 4\n",
    "\n",
    "grocery_items= dict()\n",
    "\n",
    "answer_2= type(grocery_items)\n",
    "\n",
    "\n",
    "print(answer_2)"
   ]
  },
  {
   "cell_type": "code",
   "execution_count": 3,
   "id": "0f53a9bc",
   "metadata": {},
   "outputs": [
    {
     "name": "stdout",
     "output_type": "stream",
     "text": [
      "<class 'tuple'>\n"
     ]
    }
   ],
   "source": [
    "#Create an empty tuple on line 3 and assign its type on line 4\n",
    "\n",
    "bucket_list= tuple() \n",
    "\n",
    "answer_2= type(bucket_list)\n",
    "\n",
    "\n",
    "print(answer_2)"
   ]
  },
  {
   "cell_type": "code",
   "execution_count": 4,
   "id": "fd4c958b",
   "metadata": {},
   "outputs": [
    {
     "name": "stdout",
     "output_type": "stream",
     "text": [
      "['ipad', 'phone', 'Oreo']\n"
     ]
    }
   ],
   "source": [
    "#Fill in the right side of equation on line 3 so that gift_list is assigned to a list with values in it.\n",
    "\n",
    "gift_list= [\"ipad\", \"phone\", \"Oreo\" ]\n",
    "print(gift_list)"
   ]
  },
  {
   "cell_type": "code",
   "execution_count": 5,
   "id": "a7f32e23",
   "metadata": {},
   "outputs": [
    {
     "name": "stdout",
     "output_type": "stream",
     "text": [
      "{'bananas': 8, 'leches': ['soya', 'almendra', 'linaza', 'chicharo'], 'notas': 'tiene que estar listo antes de ano nuevo', 'comida_de_navidad': {'plato_1': 'papas', 'plato_2': 'romeritos'}}\n"
     ]
    }
   ],
   "source": [
    "#Fill in the right side of equation on line 3 so that grocery_list is assigned to a dictionary with values in it.\n",
    "\n",
    "grocery_list= {'bananas':8, \n",
    "               'leches':['soya', 'almendra', 'linaza', 'chicharo'],\n",
    "              'notas': 'tiene que estar listo antes de ano nuevo',\n",
    "               'comida_de_navidad' : {'plato_1': 'papas', 'plato_2': 'romeritos',\n",
    "                } \n",
    "              }\n",
    "\n",
    "\n",
    "print(grocery_list)\n"
   ]
  },
  {
   "cell_type": "code",
   "execution_count": 6,
   "id": "e1c5ec12",
   "metadata": {},
   "outputs": [
    {
     "name": "stdout",
     "output_type": "stream",
     "text": [
      "('comer', 'conseguir un oreo', 'ver la tele')\n"
     ]
    }
   ],
   "source": [
    "#Fill in the right side of equation on line 3 so that bucket_list is assigned to a tuple with values in it.\n",
    "\n",
    "bucket_list= ('comer', 'conseguir un oreo', 'ver la tele')\n",
    "print(bucket_list)\n",
    "\n"
   ]
  },
  {
   "cell_type": "code",
   "execution_count": 1,
   "id": "1d921a6b",
   "metadata": {},
   "outputs": [
    {
     "name": "stdout",
     "output_type": "stream",
     "text": [
      "['socks', '4K drone', 'slippers', 'wine', 'jam']\n"
     ]
    }
   ],
   "source": [
    "gift_list=['socks', '4K drone', 'wine', 'jam']\n",
    "# Type your code here.\n",
    "\n",
    "gift_list.insert(2,\"slippers\")\n",
    "\n",
    "\n",
    "print(gift_list)"
   ]
  },
  {
   "cell_type": "code",
   "execution_count": 2,
   "id": "66394242",
   "metadata": {},
   "outputs": [
    {
     "name": "stdout",
     "output_type": "stream",
     "text": [
      "['socks', '4K drone', 'wine', 'jam', ['socks', 'tshirt', 'pajamas']]\n"
     ]
    }
   ],
   "source": [
    "gift_list=['socks', '4K drone', 'wine', 'jam']\n",
    "# Type your code here.\n",
    "\n",
    "gift_list.append([\"socks\", \"tshirt\", \"pajamas\"])\n",
    "\n",
    "print(gift_list)\n"
   ]
  },
  {
   "cell_type": "code",
   "execution_count": 3,
   "id": "818de88c",
   "metadata": {},
   "outputs": [
    {
     "name": "stdout",
     "output_type": "stream",
     "text": [
      "['CRV', 'Outback', 'XC90', 'GL', 'Cherokee', 'Escalade', ['Navigator', 'Suburban']]\n"
     ]
    }
   ],
   "source": [
    "lst=[\"CRV\", \"Outback\", \"XC90\", \"GL\", \"Cherokee\", \"Escalade\"]\n",
    "#  Type your code here.\n",
    "\n",
    "lst.append([\"Navigator\", \"Suburban\"])\n",
    "\n",
    "print(lst)"
   ]
  },
  {
   "cell_type": "code",
   "execution_count": 4,
   "id": "4bb873fc",
   "metadata": {},
   "outputs": [
    {
     "name": "stdout",
     "output_type": "stream",
     "text": [
      "[55, 777, 54, 6, 76, 101, 1, 2, 8679, 123]\n"
     ]
    }
   ],
   "source": [
    "lst=[55, 777, 54, 6, 76, 101, 1, 2, 8679, 123, 99]\n",
    "#  Type your code here.\n",
    "\n",
    "lst.remove(99)\n",
    "\n",
    "print(lst)"
   ]
  },
  {
   "cell_type": "code",
   "execution_count": 5,
   "id": "1110b966",
   "metadata": {},
   "outputs": [
    {
     "name": "stdout",
     "output_type": "stream",
     "text": [
      "[99, 123, 8679, 2, 1, 101, 76, 6, 54, 777, 55]\n"
     ]
    }
   ],
   "source": [
    "lst=[55, 777, 54, 6, 76, 101, 1, 2, 8679, 123, 99]\n",
    "#  Type your code here.\n",
    "\n",
    "\n",
    "lst.reverse()\n",
    "print(lst)"
   ]
  },
  {
   "cell_type": "code",
   "execution_count": 6,
   "id": "b88a5ce3",
   "metadata": {},
   "outputs": [
    {
     "name": "stdout",
     "output_type": "stream",
     "text": [
      "4\n"
     ]
    }
   ],
   "source": [
    "lst=[55, 6, 777, 54, 6, 76, 101, 1, 6, 2, 6]\n",
    "#  Type your code inside print() function.\n",
    "\n",
    "answer_1=lst.count(6)\n",
    "\n",
    "print(answer_1)"
   ]
  },
  {
   "cell_type": "code",
   "execution_count": 7,
   "id": "889b1aaa",
   "metadata": {},
   "outputs": [
    {
     "name": "stdout",
     "output_type": "stream",
     "text": [
      "1090\n"
     ]
    }
   ],
   "source": [
    "lst=[55, 6, 777, 54, 6, 76, 101, 1, 6, 2, 6]\n",
    "\n",
    "#  Type your code on line 4:\n",
    "answer_1= sum(lst)\n",
    "\n",
    "print(answer_1)"
   ]
  },
  {
   "cell_type": "code",
   "execution_count": 8,
   "id": "913de287",
   "metadata": {},
   "outputs": [
    {
     "name": "stdout",
     "output_type": "stream",
     "text": [
      "1\n"
     ]
    }
   ],
   "source": [
    "lst=[55, 6, 777, 54, 6, 76, 101, 1, 6, 2, 6]\n",
    "\n",
    "#  Type your code on line 4:\n",
    "answer_1= min(lst)\n",
    "\n",
    "print(answer_1)"
   ]
  },
  {
   "cell_type": "code",
   "execution_count": 9,
   "id": "72b668c3",
   "metadata": {},
   "outputs": [
    {
     "name": "stdout",
     "output_type": "stream",
     "text": [
      "777\n"
     ]
    }
   ],
   "source": [
    "lst=[55, 6, 777, 54, 6, 76, 101, 1, 6, 2, 6]\n",
    "\n",
    "#  Type your code on line 4:\n",
    "answer_1= max(lst)\n",
    "\n",
    "print(answer_1)"
   ]
  },
  {
   "cell_type": "code",
   "execution_count": 1,
   "id": "21c45aaf",
   "metadata": {},
   "outputs": [
    {
     "name": "stdout",
     "output_type": "stream",
     "text": [
      "2\n"
     ]
    }
   ],
   "source": [
    "tt=(55, 6, 777, 54, 6, 76, 7777, 1, 777, 2, 6)\n",
    "\n",
    "#  Type your code here.\n",
    "\n",
    "answer_1= tt.count(777)\n",
    "\n",
    "print(answer_1)"
   ]
  },
  {
   "cell_type": "code",
   "execution_count": 2,
   "id": "de2e70cc",
   "metadata": {},
   "outputs": [
    {
     "name": "stdout",
     "output_type": "stream",
     "text": [
      "2\n"
     ]
    }
   ],
   "source": [
    "tt=(55, 6, 777, 54, 6, 76, 7777, 1, 777, 2, 6)\n",
    "\n",
    "#  Type your code here.\n",
    "\n",
    "answer_1= tt.count(tt[2])\n",
    "\n",
    "print(answer_1)"
   ]
  },
  {
   "cell_type": "code",
   "execution_count": 3,
   "id": "c56282d5",
   "metadata": {},
   "outputs": [
    {
     "name": "stdout",
     "output_type": "stream",
     "text": [
      "1306\n"
     ]
    }
   ],
   "source": [
    "tt=(42, 1092, 11, 88, 65, 2, 6)\n",
    "\n",
    "#  Type your code on line 4:\n",
    "\n",
    "ans_1= sum(tt)\n",
    "\n",
    "\n",
    "print(ans_1)\n",
    "\n"
   ]
  },
  {
   "cell_type": "code",
   "execution_count": 4,
   "id": "ebec480b",
   "metadata": {},
   "outputs": [
    {
     "name": "stdout",
     "output_type": "stream",
     "text": [
      "9\n"
     ]
    }
   ],
   "source": [
    "tt=(66, 555, 11, 101, 9, 1001)\n",
    "\n",
    "#  Type your code on line 4:\n",
    "\n",
    "ans_1= min(tt)\n",
    "\n",
    "\n",
    "print(ans_1)"
   ]
  },
  {
   "cell_type": "code",
   "execution_count": 5,
   "id": "d9e8049f",
   "metadata": {},
   "outputs": [
    {
     "name": "stdout",
     "output_type": "stream",
     "text": [
      "1001\n"
     ]
    }
   ],
   "source": [
    "tt=(66, 555, 11, 101, 9, 1001)\n",
    "\n",
    "#  Type your code on line 4:\n",
    "\n",
    "ans_1= max(tt)\n",
    "\n",
    "\n",
    "print(ans_1)\n"
   ]
  },
  {
   "cell_type": "code",
   "execution_count": 6,
   "id": "8efa4b05",
   "metadata": {},
   "outputs": [
    {
     "name": "stdout",
     "output_type": "stream",
     "text": [
      "-427\n"
     ]
    }
   ],
   "source": [
    "dict={\"name\": \"Plato\", \"country\": \"Ancient Greece\", \"born\": -427, \"teacher\": \"Socrates\", \"student\": \"Aristotle\"}\n",
    "\n",
    "#Type your answer below.\n",
    "answer_1= dict[\"born\"]\n",
    "print(answer_1)\n",
    "\n"
   ]
  },
  {
   "cell_type": "code",
   "execution_count": 7,
   "id": "0536a8bc",
   "metadata": {},
   "outputs": [
    {
     "name": "stdout",
     "output_type": "stream",
     "text": [
      "{'name': 'Plato', 'country': 'Ancient Greece', 'born': -427, 'teacher': 'Socrates', 'student': 'Aristotle', 'work': ['Apology', 'Phaedo', 'Republic', 'Symposium']}\n"
     ]
    }
   ],
   "source": [
    "dict={\"name\": \"Plato\", \"country\": \"Ancient Greece\", \"born\": -427, \"teacher\": \"Socrates\", \"student\": \"Aristotle\"}\n",
    "\n",
    "#Type your answer below.\n",
    "\n",
    "dict[\"work\"] = [\"Apology\", \"Phaedo\", \"Republic\", \"Symposium\"]\n",
    "\n",
    "print(dict)\n",
    "\n"
   ]
  },
  {
   "cell_type": "code",
   "execution_count": 8,
   "id": "ca64931c",
   "metadata": {},
   "outputs": [
    {
     "name": "stdout",
     "output_type": "stream",
     "text": [
      "-428\n"
     ]
    }
   ],
   "source": [
    "dict={\"name\": \"Plato\", \"country\": \"Ancient Greece\", \"born\": -427, \"teacher\": \"Socrates\", \"student\": \"Aristotle\"}\n",
    "\n",
    "#Type your answer below.\n",
    "dict[\"born\"] = -428\n",
    "\n",
    "print(dict[\"born\"])"
   ]
  },
  {
   "cell_type": "code",
   "execution_count": 9,
   "id": "35680a69",
   "metadata": {},
   "outputs": [
    {
     "name": "stdout",
     "output_type": "stream",
     "text": [
      "{\"son's name\": 'Lucas', \"son's eyes\": 'green', \"son's height\": 34, \"son's weight\": 25}\n"
     ]
    }
   ],
   "source": [
    "dict={\"son's name\": \"Lucas\", \"son's eyes\": \"green\", \"son's height\": 32, \"son's weight\": 25}\n",
    "\n",
    "#Type your answer below.\n",
    "dict[\"son's height\"] = 32+2\n",
    "print(dict)\n"
   ]
  },
  {
   "cell_type": "code",
   "execution_count": 10,
   "id": "61029e05",
   "metadata": {},
   "outputs": [
    {
     "name": "stdout",
     "output_type": "stream",
     "text": [
      "dict_items([(\"son's name\", 'Lucas'), (\"son's eyes\", 'green'), (\"son's height\", 32), (\"son's weight\", 25)])\n"
     ]
    }
   ],
   "source": [
    "dict={\"son's name\": \"Lucas\", \"son's eyes\": \"green\", \"son's height\": 32, \"son's weight\": 25}\n",
    "\n",
    "#Type your answer below.\n",
    "ans_1= dict.items()\n",
    "\n",
    "print(ans_1)"
   ]
  },
  {
   "cell_type": "code",
   "execution_count": 11,
   "id": "b53c360b",
   "metadata": {},
   "outputs": [
    {
     "name": "stdout",
     "output_type": "stream",
     "text": [
      "green\n"
     ]
    }
   ],
   "source": [
    "dict = {\"son's name\": \"Lucas\", \"son's eye color\": \"green\", \"son's height\": 32, \"son's weight\": 25}\n",
    "\n",
    "#Type your answer inside the print.\n",
    "ans_1= dict.get(\"son's eye color\")\n",
    "\n",
    "print (ans_1)"
   ]
  },
  {
   "cell_type": "code",
   "execution_count": 12,
   "id": "ab56b755",
   "metadata": {},
   "outputs": [
    {
     "name": "stdout",
     "output_type": "stream",
     "text": [
      "2\n"
     ]
    }
   ],
   "source": [
    "dict={\"son's name\": \"Lucas\", \"son's eye color\": \"green\", \"son's height\": 32, \"son's weight\": 25}\n",
    "\n",
    "#Type your answer here.\n",
    "ans_1= ans_1=dict.get(\"son's age\", 2)\n",
    "\n",
    "print(ans_1)\n"
   ]
  },
  {
   "cell_type": "code",
   "execution_count": 13,
   "id": "244aa3c0",
   "metadata": {},
   "outputs": [
    {
     "name": "stdout",
     "output_type": "stream",
     "text": [
      "{}\n"
     ]
    }
   ],
   "source": [
    "dict={\"son's name\": \"Lucas\", \"son's eye color\": \"green\", \"son's height\": 32, \"son's weight\": 25}\n",
    "\n",
    "#clear the dictionary here then print it.\n",
    "\n",
    "dict.clear()\n",
    "\n",
    "print(dict)\n"
   ]
  },
  {
   "cell_type": "code",
   "execution_count": 14,
   "id": "f6049b87",
   "metadata": {},
   "outputs": [
    {
     "name": "stdout",
     "output_type": "stream",
     "text": [
      "son's weight\n"
     ]
    }
   ],
   "source": [
    "dict={\"son's name\": \"Lucas\", \"son's eye color\": \"green\", \"son's height\": 32, \"son's weight\": 25}\n",
    "\n",
    "#Write your answer here.\n",
    "ans_1= max(dict)\n",
    "\n",
    "print(ans_1)"
   ]
  },
  {
   "cell_type": "code",
   "execution_count": 15,
   "id": "d6b7a0be",
   "metadata": {},
   "outputs": [
    {
     "name": "stdout",
     "output_type": "stream",
     "text": [
      "4\n"
     ]
    }
   ],
   "source": [
    "dict={\"son's name\": \"Lucas\", \"son's eye color\": \"green\", \"son's height\": 32, \"son's weight\": 25}\n",
    "\n",
    "#Write your answer here.\n",
    "ans_1= len(dict)\n",
    "\n",
    "print(ans_1)\n"
   ]
  },
  {
   "cell_type": "code",
   "execution_count": 16,
   "id": "4710b6da",
   "metadata": {},
   "outputs": [
    {
     "name": "stdout",
     "output_type": "stream",
     "text": [
      "son's eye color\n"
     ]
    }
   ],
   "source": [
    "dict={\"son's name\": \"Lucas\", \"son's eye color\": \"green\", \"son's height\": 32, \"son's weight\": 25}\n",
    "\n",
    "#Write your answer here.\n",
    "ans_1= min(dict)\n",
    "\n",
    "print(ans_1)\n"
   ]
  },
  {
   "cell_type": "code",
   "execution_count": 1,
   "id": "4b87359d",
   "metadata": {},
   "outputs": [
    {
     "name": "stdout",
     "output_type": "stream",
     "text": [
      "It.\n"
     ]
    }
   ],
   "source": [
    "str=\"It's always darkest before dawn.\"\n",
    "\n",
    "#Type your answer here.\n",
    "\n",
    "ans_1= str[0]+str[1]+str[-1]\n",
    "\n",
    "print(ans_1)\n"
   ]
  },
  {
   "cell_type": "code",
   "execution_count": 2,
   "id": "07df5e32",
   "metadata": {},
   "outputs": [
    {
     "name": "stdout",
     "output_type": "stream",
     "text": [
      "It's always darkest before dawn!\n"
     ]
    }
   ],
   "source": [
    "str=\"It's always darkest before dawn.\"\n",
    "\n",
    "#Type your code here.\n",
    "\n",
    "str = str.replace(\".\",\"!\")\n",
    "\n",
    "\n",
    "print(str)\n"
   ]
  },
  {
   "cell_type": "code",
   "execution_count": 3,
   "id": "6ab0db7b",
   "metadata": {},
   "outputs": [
    {
     "name": "stdout",
     "output_type": "stream",
     "text": [
      "every strike brings me closer to the next home run.\n"
     ]
    }
   ],
   "source": [
    "str=\"EVERY Strike Brings Me Closer to the Next Home run.\"\n",
    "# Type your code here.\n",
    "\n",
    "str = str.lower()\n",
    "\n",
    "\n",
    "print(str)\n"
   ]
  },
  {
   "cell_type": "code",
   "execution_count": 4,
   "id": "420f8a1d",
   "metadata": {},
   "outputs": [
    {
     "name": "stdout",
     "output_type": "stream",
     "text": [
      "DON'T STOP ME NOW.\n"
     ]
    }
   ],
   "source": [
    "str=\"don't stop me now.\"\n",
    "# Type your code here.\n",
    "\n",
    "\n",
    "str = str.upper()\n",
    "print(str)"
   ]
  },
  {
   "cell_type": "code",
   "execution_count": 5,
   "id": "1e3e670b",
   "metadata": {},
   "outputs": [
    {
     "name": "stdout",
     "output_type": "stream",
     "text": [
      "There are no traffic jams along the extra mile.\n"
     ]
    }
   ],
   "source": [
    "str=\"there are no traffic JamS Along The extra mile.\"\n",
    "\n",
    "#Type your answer here.\n",
    "\n",
    "\n",
    "str  = str.capitalize()\n",
    "\n",
    "print(str)\n"
   ]
  },
  {
   "cell_type": "code",
   "execution_count": 7,
   "id": "f5562559",
   "metadata": {},
   "outputs": [
    {
     "name": "stdout",
     "output_type": "stream",
     "text": [
      "True\n"
     ]
    }
   ],
   "source": [
    "str=\"ticket here are no traffic jams along the extra mile.\"\n",
    "#  Type your code here.\n",
    "\n",
    "ans_1= str.startswith(\"ticket\") \n",
    "\n",
    "\n",
    "print(ans_1)"
   ]
  },
  {
   "cell_type": "code",
   "execution_count": 9,
   "id": "53a44f12",
   "metadata": {},
   "outputs": [
    {
     "name": "stdout",
     "output_type": "stream",
     "text": [
      "True\n"
     ]
    }
   ],
   "source": [
    "str=\"There are no traffic jams along the extra mile.\"\n",
    "#  Type your code here.\n",
    "\n",
    "\n",
    "ans_1= str.endswith(\"mile.\")\n",
    "\n",
    "\n",
    "print(ans_1)"
   ]
  },
  {
   "cell_type": "code",
   "execution_count": 10,
   "id": "04565fd3",
   "metadata": {},
   "outputs": [
    {
     "name": "stdout",
     "output_type": "stream",
     "text": [
      "11\n"
     ]
    }
   ],
   "source": [
    "str=\"The best revenge is massive success.\"\n",
    "\n",
    "#  Type your code here.\n",
    "\n",
    "ans_1= str.index(\"v\")\n",
    "\n",
    "\n",
    "print(ans_1)\n"
   ]
  },
  {
   "cell_type": "code",
   "execution_count": 11,
   "id": "b0084e2d",
   "metadata": {},
   "outputs": [
    {
     "ename": "ValueError",
     "evalue": "substring not found",
     "output_type": "error",
     "traceback": [
      "\u001b[0;31m---------------------------------------------------------------------------\u001b[0m",
      "\u001b[0;31mValueError\u001b[0m                                Traceback (most recent call last)",
      "Input \u001b[0;32mIn [11]\u001b[0m, in \u001b[0;36m<cell line: 5>\u001b[0;34m()\u001b[0m\n\u001b[1;32m      1\u001b[0m \u001b[38;5;28mstr\u001b[39m\u001b[38;5;241m=\u001b[39m\u001b[38;5;124m\"\u001b[39m\u001b[38;5;124mThe best revenge is massive success.\u001b[39m\u001b[38;5;124m\"\u001b[39m\n\u001b[1;32m      3\u001b[0m \u001b[38;5;66;03m#  Type your code here.\u001b[39;00m\n\u001b[0;32m----> 5\u001b[0m ans_1\u001b[38;5;241m=\u001b[39m \u001b[38;5;28;43mstr\u001b[39;49m\u001b[38;5;241;43m.\u001b[39;49m\u001b[43mindex\u001b[49m\u001b[43m(\u001b[49m\u001b[38;5;124;43m\"\u001b[39;49m\u001b[38;5;124;43mx\u001b[39;49m\u001b[38;5;124;43m\"\u001b[39;49m\u001b[43m)\u001b[49m\n\u001b[1;32m      7\u001b[0m \u001b[38;5;28mprint\u001b[39m(ans_1)\n",
      "\u001b[0;31mValueError\u001b[0m: substring not found"
     ]
    }
   ],
   "source": [
    "str=\"The best revenge is massive success.\"\n",
    "\n",
    "#  Type your code here.\n",
    "\n",
    "ans_1= str.index(\"x\")\n",
    "\n",
    "print(ans_1)"
   ]
  },
  {
   "cell_type": "code",
   "execution_count": 12,
   "id": "ccb68944",
   "metadata": {},
   "outputs": [
    {
     "name": "stdout",
     "output_type": "stream",
     "text": [
      "-1\n"
     ]
    }
   ],
   "source": [
    "str=\"The best revenge is massive success.\"\n",
    "\n",
    "#  Type your code here.\n",
    "\n",
    "ans_1= str.find(\"x\")\n",
    "\n",
    "print(ans_1)"
   ]
  },
  {
   "cell_type": "code",
   "execution_count": 13,
   "id": "3dbf301c",
   "metadata": {},
   "outputs": [
    {
     "name": "stdout",
     "output_type": "stream",
     "text": [
      "count of a is:  7  count of o is:  7\n"
     ]
    }
   ],
   "source": [
    "str=\"People often say that motivation doesn't last. Well, neither does bathing.  That's why we recommend it daily.\"\n",
    "#  Type your code here.\n",
    "\n",
    "ans_1= str.count(\"a\")\n",
    "\n",
    "ans_2= str.count(\"o\")\n",
    "\n",
    "\n",
    "print(\"count of a is: \", ans_1, \" count of o is: \", ans_2)\n",
    "\n",
    "\n"
   ]
  },
  {
   "cell_type": "code",
   "execution_count": 15,
   "id": "50cca5f8",
   "metadata": {},
   "outputs": [
    {
     "name": "stdout",
     "output_type": "stream",
     "text": [
      "<class 'int'>\n"
     ]
    }
   ],
   "source": [
    "v_1=\"1\"\n",
    "v_2=1\n",
    "\n",
    "#  Type your code on line 4:\n",
    "\n",
    "ans_1= type(v_1)\n",
    "\n",
    "ans_2= type(v_2)\n",
    "\n",
    "\n",
    "print(ans_2)"
   ]
  },
  {
   "cell_type": "code",
   "execution_count": 16,
   "id": "dfbd5ac2",
   "metadata": {},
   "outputs": [
    {
     "name": "stdout",
     "output_type": "stream",
     "text": [
      "9\n"
     ]
    }
   ],
   "source": [
    "str=\"1.975.000\"\n",
    "\n",
    "#  Type your code here:\n",
    "\n",
    "ans_1= len(str)\n",
    "\n",
    "\n",
    "print(ans_1)"
   ]
  },
  {
   "cell_type": "code",
   "execution_count": 1,
   "id": "e75ecfea",
   "metadata": {},
   "outputs": [
    {
     "name": "stdout",
     "output_type": "stream",
     "text": [
      "7\n"
     ]
    }
   ],
   "source": [
    "lst=[11, 10, 12, 101, 99, 1000, 999]\n",
    "\n",
    "answer_1= len(lst)\n",
    "\n",
    "\n",
    "print(answer_1)\n"
   ]
  },
  {
   "cell_type": "code",
   "execution_count": 2,
   "id": "6a76249b",
   "metadata": {},
   "outputs": [
    {
     "name": "stdout",
     "output_type": "stream",
     "text": [
      "36\n"
     ]
    }
   ],
   "source": [
    "msg=\"Be yourself, everyone else is taken.\"\n",
    "#Type your code here. SÍ SE CUENTAN LOS ESPACIOS\n",
    "\n",
    "msg_length= len(msg)\n",
    "\n",
    "\n",
    "print(msg_length)"
   ]
  },
  {
   "cell_type": "code",
   "execution_count": 3,
   "id": "7d832876",
   "metadata": {},
   "outputs": [
    {
     "name": "stdout",
     "output_type": "stream",
     "text": [
      "36\n"
     ]
    }
   ],
   "source": [
    "msg=\"Be yourself, everyone else is taken.\"\n",
    "#Type your code here.\n",
    "\n",
    "msg_length= len(msg)\n",
    "\n",
    "\n",
    "print(msg_length)"
   ]
  },
  {
   "cell_type": "code",
   "execution_count": 4,
   "id": "a7065e4a",
   "metadata": {},
   "outputs": [
    {
     "name": "stdout",
     "output_type": "stream",
     "text": [
      "5\n"
     ]
    }
   ],
   "source": [
    "dict={\"Real Madrid\": 13,\"AC Milan\": 7,\"Bayern Munich\":5 ,\"Barcelona\": 5, \"Liverpool\": 5}\n",
    "#Type your answer here.\n",
    "\n",
    "ans_1= len(dict)\n",
    "\n",
    "print(ans_1)\n"
   ]
  },
  {
   "cell_type": "code",
   "execution_count": 5,
   "id": "1e4e1299",
   "metadata": {},
   "outputs": [
    {
     "name": "stdout",
     "output_type": "stream",
     "text": [
      "8\n"
     ]
    }
   ],
   "source": [
    "gift_list=['4K drone', 'wine', 'jam', ['socks', 'pajamas', 'raincoat']]\n",
    "# Type your code here.\n",
    "\n",
    "ans_1= len(gift_list[-1][-1])\n",
    "\n",
    "print(ans_1)"
   ]
  },
  {
   "cell_type": "code",
   "execution_count": 6,
   "id": "b636ce7e",
   "metadata": {},
   "outputs": [
    {
     "name": "stdout",
     "output_type": "stream",
     "text": [
      "[11, 99, 100, 999, 1000]\n"
     ]
    }
   ],
   "source": [
    "lst=[11, 100, 99, 1000, 999]\n",
    "\n",
    "#Type your answer here.\n",
    "\n",
    "lst.sort()\n",
    "\n",
    "\n",
    "print(lst)\n"
   ]
  },
  {
   "cell_type": "code",
   "execution_count": 7,
   "id": "2e08dc43",
   "metadata": {},
   "outputs": [
    {
     "name": "stdout",
     "output_type": "stream",
     "text": [
      "['Belize', 'Canada', 'India', 'Japan', 'Kazakhstan', 'Taiwan', 'Ukraine']\n"
     ]
    }
   ],
   "source": [
    "lst=[\"Ukraine\", \"Japan\", \"Canada\", \"Kazakhstan\", \"Taiwan\", \"India\", \"Belize\"]\n",
    "\n",
    "#Type your code here.\n",
    "\n",
    "\n",
    "lst.sort()\n",
    "print(lst)"
   ]
  },
  {
   "cell_type": "code",
   "execution_count": 9,
   "id": "07920e2b",
   "metadata": {},
   "outputs": [
    {
     "name": "stdout",
     "output_type": "stream",
     "text": [
      "[1001, 999, 101, 100, 11]\n"
     ]
    }
   ],
   "source": [
    "lst=[11, 100, 101, 999, 1001]\n",
    "\n",
    "#Type your answer here.\n",
    "\n",
    "lst.sort(reverse =-1)\n",
    "\n",
    "print(lst)"
   ]
  },
  {
   "cell_type": "code",
   "execution_count": 10,
   "id": "354e4e59",
   "metadata": {},
   "outputs": [
    {
     "name": "stdout",
     "output_type": "stream",
     "text": [
      "['wine', 'socks', 'jam', '4K drone']\n"
     ]
    }
   ],
   "source": [
    "gift_list=['socks', '4K drone', 'wine', 'jam']\n",
    "\n",
    "# Type your answer here.\n",
    "\n",
    "gift_list.sort(reverse= True)\n",
    "print(gift_list)"
   ]
  },
  {
   "cell_type": "code",
   "execution_count": 46,
   "id": "613571f0",
   "metadata": {},
   "outputs": [],
   "source": [
    "import random"
   ]
  },
  {
   "cell_type": "code",
   "execution_count": 55,
   "id": "ff881d40",
   "metadata": {},
   "outputs": [],
   "source": [
    "elc_members = [\"Ana\", \"Sof\", \"Diego\", \"Chio\", \"Lily\", \"July\", \"Pri\", \n",
    "               \"Monste\", \"Carlos\", \"Vicky\", \"Isaias\", \"Z\", \"Gerry\"]"
   ]
  },
  {
   "cell_type": "code",
   "execution_count": 56,
   "id": "d62bd96e",
   "metadata": {},
   "outputs": [
    {
     "data": {
      "text/plain": [
       "['Ana',\n",
       " 'Sof',\n",
       " 'Diego',\n",
       " 'Chio',\n",
       " 'Lily',\n",
       " 'July',\n",
       " 'Pri',\n",
       " 'Monste',\n",
       " 'Carlos',\n",
       " 'Vicky',\n",
       " 'Isaias',\n",
       " 'Z',\n",
       " 'Gerry']"
      ]
     },
     "execution_count": 56,
     "metadata": {},
     "output_type": "execute_result"
    }
   ],
   "source": [
    "elc_members"
   ]
  },
  {
   "cell_type": "code",
   "execution_count": 79,
   "id": "016772ab",
   "metadata": {},
   "outputs": [],
   "source": [
    "def standup_order(elc_names,order):\n",
    "    print(elc_names)\n",
    "    if order == \"a_to_z\":\n",
    "        #print(elc_names)\n",
    "        a = elc_names.sort()\n",
    "        return a\n",
    "    if order == \"z_to_a\":\n",
    "        return elc_names.sort(reverse= True)\n",
    "    if order == \"random\":\n",
    "        return random.shuffle(elc_names)"
   ]
  },
  {
   "cell_type": "code",
   "execution_count": 85,
   "id": "6cf77fac",
   "metadata": {},
   "outputs": [
    {
     "name": "stdout",
     "output_type": "stream",
     "text": [
      "['Ana', 'Carlos', 'Chio', 'Diego', 'Gerry', 'Isaias', 'July', 'Lily', 'Monste', 'Pri', 'Sof', 'Vicky', 'Z']\n"
     ]
    }
   ],
   "source": [
    "standup_order(elc_members,\"a_to_z\")"
   ]
  },
  {
   "cell_type": "code",
   "execution_count": 87,
   "id": "5f247451",
   "metadata": {},
   "outputs": [
    {
     "name": "stdout",
     "output_type": "stream",
     "text": [
      "['Z', 'Vicky', 'Sof', 'Pri', 'Monste', 'Lily', 'July', 'Isaias', 'Gerry', 'Diego', 'Chio', 'Carlos', 'Ana']\n"
     ]
    }
   ],
   "source": [
    "standup_order(elc_members,\"z_to_a\")"
   ]
  },
  {
   "cell_type": "code",
   "execution_count": 88,
   "id": "217c95c0",
   "metadata": {},
   "outputs": [
    {
     "name": "stdout",
     "output_type": "stream",
     "text": [
      "['Z', 'Vicky', 'Sof', 'Pri', 'Monste', 'Lily', 'July', 'Isaias', 'Gerry', 'Diego', 'Chio', 'Carlos', 'Ana']\n"
     ]
    }
   ],
   "source": [
    "standup_order(elc_members,\"random\")"
   ]
  },
  {
   "cell_type": "code",
   "execution_count": null,
   "id": "be0d6fa9",
   "metadata": {},
   "outputs": [],
   "source": []
  },
  {
   "cell_type": "code",
   "execution_count": 1,
   "id": "94088fdf",
   "metadata": {},
   "outputs": [
    {
     "name": "stdout",
     "output_type": "stream",
     "text": [
      "Bears\n"
     ]
    }
   ],
   "source": [
    "NFL=[\"Panthers\", \"Bears\", \"Dolphins\" \"Patriots\", \"Saints\", \"Giants\"]\n",
    "\n",
    "# Type your code here.\n",
    "\n",
    "NFL.sort(reverse= True)\n",
    "\n",
    "answer_1= NFL[-1]\n",
    "\n",
    "\n",
    "\n",
    "print(answer_1)"
   ]
  },
  {
   "cell_type": "code",
   "execution_count": 2,
   "id": "3b4c414b",
   "metadata": {},
   "outputs": [
    {
     "name": "stdout",
     "output_type": "stream",
     "text": [
      "['Shanghai', 'Moscow', 'Montreal', 'Melbourne', 'Delhi', 'Atlanta']\n"
     ]
    }
   ],
   "source": [
    "muni=[\"Melbourne\", \"Shanghai\", \"Delhi\", \"Atlanta\", \"Moscow\", \"Montreal\"]\n",
    "\n",
    "# Type your code here.\n",
    "\n",
    "\n",
    "muni.sort(reverse = True)\n",
    "\n",
    "\n",
    "print(muni)"
   ]
  },
  {
   "cell_type": "code",
   "execution_count": 3,
   "id": "0febd259",
   "metadata": {},
   "outputs": [
    {
     "name": "stdout",
     "output_type": "stream",
     "text": [
      "['cheesecake', 'chocolate', 'pudding', 'tiramisu']\n"
     ]
    }
   ],
   "source": [
    "\n",
    "dict={\"tiramisu\":5, \"chocolate\":2, \"pudding\":3, \"cheesecake\":4}\n",
    "#  Type your code below.\n",
    "\n",
    "key_list= dict.keys()\n",
    "\n",
    "key_list = list(dict)\n",
    "\n",
    "key_list.sort()\n",
    "\n",
    "print(key_list)\n"
   ]
  },
  {
   "cell_type": "code",
   "execution_count": 4,
   "id": "4c631768",
   "metadata": {},
   "outputs": [
    {
     "name": "stdout",
     "output_type": "stream",
     "text": [
      "['cheesecake', 'chocolate', 'pudding', 'tiramisu']\n"
     ]
    }
   ],
   "source": [
    "\n",
    "dict={\"tiramisu\":5, \"chocolate\":2, \"pudding\":3, \"cheesecake\":4}\n",
    "#  Type your code below.\n",
    "\n",
    "key_list = list(dict.keys())\n",
    "key_list.sort()\n",
    "\n",
    "print(key_list)\n"
   ]
  },
  {
   "cell_type": "code",
   "execution_count": 5,
   "id": "1eb78abd",
   "metadata": {},
   "outputs": [
    {
     "name": "stdout",
     "output_type": "stream",
     "text": [
      "999\n",
      "[11, 100, 99, 1000]\n"
     ]
    }
   ],
   "source": [
    "lst=[11, 100, 99, 1000, 999]\n",
    "\n",
    "#Type your answer here.\n",
    "\n",
    "popped_item= lst.pop()\n",
    " \n",
    "print(popped_item)\n",
    "print(lst)\n"
   ]
  },
  {
   "cell_type": "code",
   "execution_count": 6,
   "id": "5712832d",
   "metadata": {},
   "outputs": [
    {
     "name": "stdout",
     "output_type": "stream",
     "text": [
      "['milk', 'banana', 'eggs', 'bread', 'lemons'] broccoli\n"
     ]
    }
   ],
   "source": [
    "lst=[\"milk\", \"banana\", \"eggs\", \"bread\", \"broccoli\", \"lemons\"]\n",
    "\n",
    "#Type your code here.\n",
    "\n",
    "\n",
    "item= lst.pop(4)\n",
    "\n",
    "\n",
    "print(lst, item)\n"
   ]
  },
  {
   "cell_type": "code",
   "execution_count": 7,
   "id": "e7b8fd66",
   "metadata": {},
   "outputs": [
    {
     "name": "stdout",
     "output_type": "stream",
     "text": [
      "['milk', 'banana', 'eggs', 'bread', 'lemons'] broccoli\n"
     ]
    }
   ],
   "source": [
    "lst=[\"milk\", \"banana\", \"eggs\", \"bread\", \"broccoli\", \"lemons\"]\n",
    "\n",
    "#Type your code here.\n",
    "\n",
    "\n",
    "item= lst.pop(lst.index(\"broccoli\"))\n",
    "\n",
    "\n",
    "print(lst, item)\n"
   ]
  },
  {
   "cell_type": "code",
   "execution_count": 8,
   "id": "0e21e5ae",
   "metadata": {},
   "outputs": [
    {
     "name": "stdout",
     "output_type": "stream",
     "text": [
      "{'US': 21, 'China': 16, 'Japan': 5, 'Germany': 4, 'India': 3, 'France': 3, 'UK': 3}\n",
      "2 trillion USD\n"
     ]
    }
   ],
   "source": [
    "GDP_2018={\"US\": 21, \"China\": 16, \"Japan\": 5, \"Germany\": 4, \"India\": 3, \"France\": 3, \"UK\": 3, \"Italy\": 2}\n",
    "\n",
    "#Type your answer here.\n",
    "\n",
    "italy_gdp= GDP_2018.pop(\"Italy\")\n",
    "\n",
    "\n",
    "print(GDP_2018)\n",
    "print(italy_gdp, \"trillion USD\")\n",
    "\n"
   ]
  },
  {
   "cell_type": "code",
   "execution_count": 9,
   "id": "316fc126",
   "metadata": {},
   "outputs": [
    {
     "name": "stdout",
     "output_type": "stream",
     "text": [
      "Holi elc!\n",
      "Hello!, Holi elc!\n"
     ]
    }
   ],
   "source": [
    "#Type your answer here.\n",
    "\n",
    "ans_1= input()\n",
    " \n",
    "print(\"Hello!, \" + ans_1)\n"
   ]
  },
  {
   "cell_type": "code",
   "execution_count": 10,
   "id": "7f11468c",
   "metadata": {},
   "outputs": [
    {
     "name": "stdout",
     "output_type": "stream",
     "text": [
      "Please enter your age30\n",
      "<class 'str'>\n"
     ]
    }
   ],
   "source": [
    "#Type your code here.\n",
    "ans_1= input(\"Please enter your age\" )\n",
    "\n",
    "\n",
    "print(type(ans_1))\n"
   ]
  },
  {
   "cell_type": "code",
   "execution_count": 11,
   "id": "5a6160f3",
   "metadata": {},
   "outputs": [
    {
     "name": "stdout",
     "output_type": "stream",
     "text": [
      "Please enter the current year.2023\n",
      "2073\n"
     ]
    }
   ],
   "source": [
    "#Type your answer inside print function, all in one line.\n",
    "\n",
    "\n",
    "print(int(input(\"Please enter the current year.\"))+50)\n",
    "\n",
    "\n"
   ]
  },
  {
   "cell_type": "code",
   "execution_count": 12,
   "id": "911c6709",
   "metadata": {},
   "outputs": [
    {
     "name": "stdout",
     "output_type": "stream",
     "text": [
      "How many days would you like to convert to a year?730\n",
      "2.0\n"
     ]
    }
   ],
   "source": [
    "# Type your answer here.\n",
    "\n",
    "message= input(\"How many days would you like to convert to a year?\")\n",
    "\n",
    "result= int(message)/365\n",
    "\n",
    "\n",
    "print(result)\n"
   ]
  },
  {
   "cell_type": "code",
   "execution_count": 13,
   "id": "b5ab2b0a",
   "metadata": {},
   "outputs": [
    {
     "name": "stdout",
     "output_type": "stream",
     "text": [
      "How many days would you like to convert to a year?5699\n",
      "15.613698630136986\n"
     ]
    }
   ],
   "source": [
    "# Type your answer here.\n",
    "\n",
    "message= input(\"How many days would you like to convert to a year?\")\n",
    "\n",
    "result= float(message)/365\n",
    "\n",
    "\n",
    "print(result)"
   ]
  },
  {
   "cell_type": "code",
   "execution_count": 14,
   "id": "bf1f59dd",
   "metadata": {},
   "outputs": [
    {
     "name": "stdout",
     "output_type": "stream",
     "text": [
      "How many miles would you like to convert to kms?156\n",
      "251.004\n"
     ]
    }
   ],
   "source": [
    "# Type your answer here.\n",
    "\n",
    "message= input(\"How many miles would you like to convert to kms?\")\n",
    "\n",
    "result= float(message)*1.609\n",
    "\n",
    "\n",
    "print(result)"
   ]
  },
  {
   "cell_type": "code",
   "execution_count": null,
   "id": "3b517862",
   "metadata": {},
   "outputs": [],
   "source": [
    "# Type your answer here.\n",
    "\n",
    "message= input(\"How many miles would you like to convert to kms?\")\n",
    "\n",
    "result= float(message)*1.609\n",
    "\n",
    "\n",
    "print(result)"
   ]
  },
  {
   "cell_type": "code",
   "execution_count": null,
   "id": "d00a7100",
   "metadata": {},
   "outputs": [],
   "source": []
  }
 ],
 "metadata": {
  "kernelspec": {
   "display_name": "Python 3 (ipykernel)",
   "language": "python",
   "name": "python3"
  },
  "language_info": {
   "codemirror_mode": {
    "name": "ipython",
    "version": 3
   },
   "file_extension": ".py",
   "mimetype": "text/x-python",
   "name": "python",
   "nbconvert_exporter": "python",
   "pygments_lexer": "ipython3",
   "version": "3.9.12"
  }
 },
 "nbformat": 4,
 "nbformat_minor": 5
}
