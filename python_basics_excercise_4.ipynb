{
 "cells": [
  {
   "cell_type": "markdown",
   "id": "ec24e5fb",
   "metadata": {},
   "source": [
    "## If, elif, else and loops excercises"
   ]
  },
  {
   "cell_type": "markdown",
   "id": "1826e339",
   "metadata": {},
   "source": [
    "### Excercise 1\n",
    "\n",
    "1. Create a list of Espressive members.\n",
    "\n",
    "e.g\n",
    "\n",
    "espressive_members = [\"Rocio\",\"July\",\"Montse\",\"Becca\",\"Diego\",\"Liliana\",\"Ana\",\"Sofia\",\"Vale\",\"Vicky\",\"Carlos\"]\n",
    "\n",
    "Possible possition:\n",
    "\n",
    "- Conversational AI Analyst\n",
    "- Technical Writer\n",
    "- Sales Development Representative\n",
    "- HR Generalist\n",
    "\n",
    "Espressive crew\n",
    "\n",
    "- ELC\n",
    "- Sales\n",
    "- Administration\n",
    "\n",
    "\n",
    "2. Using a loop to iterate over the list:\n",
    "\n",
    "    A) print the correspondent possition for each member\n",
    "    \n",
    "    B) create rules to print the correspondent espressive crew depending on the members"
   ]
  },
  {
   "cell_type": "code",
   "execution_count": 3,
   "id": "145fb9db",
   "metadata": {},
   "outputs": [],
   "source": [
    "espressive_members = [\"Rocio\",\"July\",\"Montse\",\"Becca\",\"Diego\",\"Liliana\",\"Ana\",\"Sofia\",\"Vale\",\"Vicky\",\"Carlos\", \"Gerry\"]"
   ]
  },
  {
   "cell_type": "code",
   "execution_count": 18,
   "id": "d917aa58",
   "metadata": {},
   "outputs": [
    {
     "name": "stdout",
     "output_type": "stream",
     "text": [
      "Rocio is an ELC member and he/she is Conversational AI analyts\n",
      "July is an ELC member and he/she is Conversational AI analyts\n",
      "Montse is an ELC member and they are Technical Writers\n",
      "Becca is a Sales member and she is a Sales Rep\n",
      "Diego is an ELC member and they are Technical Writers\n",
      "Liliana is an ELC member and he/she is Conversational AI analyts\n",
      "Ana is an ELC member and he/she is Conversational AI analyts\n",
      "Sofia is an ELC member and he/she is Conversational AI analyts\n",
      "Vale is an Administration member and she is a HR Generalist\n",
      "Vicky is an ELC member and they are Technical Writers\n",
      "Carlos is an ELC member and he/she is Conversational AI analyts\n",
      "Gerry is an ELC member and he is the Excel King\n"
     ]
    }
   ],
   "source": [
    "for member in espressive_members:\n",
    "    if member == \"Rocio\" or member == \"July\" or member == \"Liliana\" or member == \"Ana\" or member == \"Sofia\" or member == \"Carlos\":\n",
    "        print(f\"{member} is an ELC member and he/she is Conversational AI analyts\")\n",
    "    elif member == \"Vicky\" or member == \"Montse\" or member == \"Diego\":\n",
    "        print(f\"{member} is an ELC member and they are Technical Writers\")\n",
    "    elif member == \"Gerry\":\n",
    "        print(f\"{member} is an ELC member and he is the Excel King\")\n",
    "    elif member == \"Vale\":\n",
    "        print(f\"{member} is an Administration member and she is a HR Generalist\")\n",
    "    elif member == \"Becca\":\n",
    "        print(f\"{member} is a Sales member and she is a Sales Rep\")\n",
    "    else:\n",
    "        print(\"they do not belong to espresive\")"
   ]
  },
  {
   "cell_type": "code",
   "execution_count": 27,
   "id": "88da8caa",
   "metadata": {},
   "outputs": [],
   "source": [
    "espressive_elc = {\n",
    "    \"Rocio\": \"Conversational AI Analyst\",\n",
    "    \"July\": \"Conversational AI Analyst\",\n",
    "    \"Ana\": \"Conversational AI Analyst\",\n",
    "    \"Sofia\": \"Conversational AI Analyst\"\n",
    "}"
   ]
  },
  {
   "cell_type": "code",
   "execution_count": 29,
   "id": "a46bbb9e",
   "metadata": {},
   "outputs": [
    {
     "name": "stdout",
     "output_type": "stream",
     "text": [
      "Conversational AI Analyst\n"
     ]
    }
   ],
   "source": [
    "for member in espressive_members:\n",
    "    if member == \"Rocio\":\n",
    "        print (\"Conversational AI Analyst\")"
   ]
  },
  {
   "cell_type": "code",
   "execution_count": 11,
   "id": "93352056",
   "metadata": {},
   "outputs": [],
   "source": [
    "espressive_techical: {\n",
    "    \"Montse\": \"Technical Writer\",\n",
    "    \"Diego\": \"Technical Writer\",\n",
    "    \"Vicky\": \"Technical Writer\"\n",
    "}"
   ]
  },
  {
   "cell_type": "code",
   "execution_count": null,
   "id": "8764c105",
   "metadata": {},
   "outputs": [],
   "source": []
  },
  {
   "cell_type": "markdown",
   "id": "a934a54d",
   "metadata": {},
   "source": [
    "### Excercise 2\n",
    "\n",
    "\"I cannot install Teams\"\n",
    "\n",
    "1. Stored the String in a variable\n",
    "\n",
    "2. Create a list from a that string\n",
    "\n",
    "3. Using position assign the list items to values to the correspondent keys in the dictionary \"Parsed interaction\"\n",
    "\n",
    "parsed_interaction = {\"aux_verb\":\"\",verb\":\"\",\"app\":\"\"}\n",
    "\n",
    "4. Create an algorithm that interate over the dictionary and create the following constrains:\n",
    "\n",
    "    a) diffenciate 'cannot'/'can', each one has to lead to a different intent\n",
    "    \n",
    "    b) differentiate 'install'/'unistall' each one has to lead to a different intent\n",
    "    \n",
    "    c) differentiate 'Teams'/'Zoom'/'google meet' each one has to lead to a different intent\n"
   ]
  },
  {
   "cell_type": "code",
   "execution_count": 1,
   "id": "96e86c6c",
   "metadata": {},
   "outputs": [],
   "source": [
    "user_interaction = \"I need install zoom\""
   ]
  },
  {
   "cell_type": "code",
   "execution_count": 3,
   "id": "063ced36",
   "metadata": {},
   "outputs": [
    {
     "data": {
      "text/plain": [
       "['I', 'need', 'install', 'zoom']"
      ]
     },
     "execution_count": 3,
     "metadata": {},
     "output_type": "execute_result"
    }
   ],
   "source": [
    "user_interaction.split()"
   ]
  },
  {
   "cell_type": "code",
   "execution_count": 4,
   "id": "37617c0f",
   "metadata": {},
   "outputs": [],
   "source": [
    "parsed_interaction = user_interaction.split()"
   ]
  },
  {
   "cell_type": "code",
   "execution_count": null,
   "id": "3a31bed0",
   "metadata": {},
   "outputs": [],
   "source": []
  }
 ],
 "metadata": {
  "kernelspec": {
   "display_name": "Python 3 (ipykernel)",
   "language": "python",
   "name": "python3"
  },
  "language_info": {
   "codemirror_mode": {
    "name": "ipython",
    "version": 3
   },
   "file_extension": ".py",
   "mimetype": "text/x-python",
   "name": "python",
   "nbconvert_exporter": "python",
   "pygments_lexer": "ipython3",
   "version": "3.9.12"
  }
 },
 "nbformat": 4,
 "nbformat_minor": 5
}
